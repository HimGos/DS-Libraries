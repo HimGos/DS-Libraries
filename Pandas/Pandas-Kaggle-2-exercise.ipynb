{
 "cells": [
  {
   "cell_type": "markdown",
   "metadata": {},
   "source": [
    "**This notebook is an exercise in the [Pandas](https://www.kaggle.com/learn/pandas) course.  You can reference the tutorial at [this link](https://www.kaggle.com/residentmario/indexing-selecting-assigning).**\n",
    "\n",
    "---\n"
   ]
  },
  {
   "cell_type": "markdown",
   "metadata": {},
   "source": [
    "# Introduction\n",
    "\n",
    "In this set of exercises we will work with the [Wine Reviews dataset](https://www.kaggle.com/zynicide/wine-reviews). "
   ]
  },
  {
   "cell_type": "markdown",
   "metadata": {},
   "source": [
    "Run the following cell to load your data and some utility functions (including code to check your answers)."
   ]
  },
  {
   "cell_type": "code",
   "execution_count": 1,
   "metadata": {
    "execution": {
     "iopub.execute_input": "2022-07-30T05:15:38.132844Z",
     "iopub.status.busy": "2022-07-30T05:15:38.132438Z",
     "iopub.status.idle": "2022-07-30T05:15:41.181330Z",
     "shell.execute_reply": "2022-07-30T05:15:41.180146Z",
     "shell.execute_reply.started": "2022-07-30T05:15:38.132751Z"
    }
   },
   "outputs": [],
   "source": [
    "import pandas as pd\n",
    "\n",
    "reviews = pd.read_csv(\"../input/wine-reviews/winemag-data-130k-v2.csv\", index_col=0)\n",
    "pd.set_option(\"display.max_rows\", 5)\n",
    "\n",
    "from learntools.core import binder; binder.bind(globals())\n",
    "from learntools.pandas.indexing_selecting_and_assigning import *\n",
    "print(\"Setup complete.\")"
   ]
  },
  {
   "cell_type": "markdown",
   "metadata": {},
   "source": [
    "Look at an overview of your data by running the following line."
   ]
  },
  {
   "cell_type": "code",
   "execution_count": 2,
   "metadata": {
    "execution": {
     "iopub.execute_input": "2022-07-30T05:15:52.672993Z",
     "iopub.status.busy": "2022-07-30T05:15:52.672292Z",
     "iopub.status.idle": "2022-07-30T05:15:52.703127Z",
     "shell.execute_reply": "2022-07-30T05:15:52.701933Z",
     "shell.execute_reply.started": "2022-07-30T05:15:52.672957Z"
    }
   },
   "outputs": [],
   "source": [
    "reviews.head()"
   ]
  },
  {
   "cell_type": "markdown",
   "metadata": {},
   "source": [
    "# Exercises"
   ]
  },
  {
   "cell_type": "markdown",
   "metadata": {},
   "source": [
    "## 1.\n",
    "\n",
    "Select the `description` column from `reviews` and assign the result to the variable `desc`."
   ]
  },
  {
   "cell_type": "code",
   "execution_count": 3,
   "metadata": {
    "execution": {
     "iopub.execute_input": "2022-07-30T05:16:31.039944Z",
     "iopub.status.busy": "2022-07-30T05:16:31.039538Z",
     "iopub.status.idle": "2022-07-30T05:16:31.048611Z",
     "shell.execute_reply": "2022-07-30T05:16:31.047886Z",
     "shell.execute_reply.started": "2022-07-30T05:16:31.039909Z"
    }
   },
   "outputs": [],
   "source": [
    "# Your code here\n",
    "desc = reviews.description\n",
    "\n",
    "# Check your answer\n",
    "q1.check()"
   ]
  },
  {
   "cell_type": "markdown",
   "metadata": {},
   "source": [
    "Follow-up question: what type of object is `desc`? If you're not sure, you can check by calling Python's `type` function: `type(desc)`."
   ]
  },
  {
   "cell_type": "code",
   "execution_count": 4,
   "metadata": {
    "execution": {
     "iopub.execute_input": "2022-07-30T05:17:08.623599Z",
     "iopub.status.busy": "2022-07-30T05:17:08.623224Z",
     "iopub.status.idle": "2022-07-30T05:17:08.630624Z",
     "shell.execute_reply": "2022-07-30T05:17:08.629371Z",
     "shell.execute_reply.started": "2022-07-30T05:17:08.623569Z"
    }
   },
   "outputs": [],
   "source": [
    "type(desc)\n",
    "#q1.hint()\n",
    "#q1.solution()"
   ]
  },
  {
   "cell_type": "markdown",
   "metadata": {},
   "source": [
    "## 2.\n",
    "\n",
    "Select the first value from the description column of `reviews`, assigning it to variable `first_description`."
   ]
  },
  {
   "cell_type": "code",
   "execution_count": 6,
   "metadata": {
    "execution": {
     "iopub.execute_input": "2022-07-30T05:19:43.140231Z",
     "iopub.status.busy": "2022-07-30T05:19:43.139805Z",
     "iopub.status.idle": "2022-07-30T05:19:43.150771Z",
     "shell.execute_reply": "2022-07-30T05:19:43.150034Z",
     "shell.execute_reply.started": "2022-07-30T05:19:43.140192Z"
    }
   },
   "outputs": [],
   "source": [
    "first_description = reviews.loc[0,'description']\n",
    "\n",
    "# Check your answer\n",
    "q2.check()\n",
    "first_description"
   ]
  },
  {
   "cell_type": "code",
   "execution_count": null,
   "metadata": {},
   "outputs": [],
   "source": [
    "#q2.hint()\n",
    "#q2.solution()"
   ]
  },
  {
   "cell_type": "markdown",
   "metadata": {},
   "source": [
    "## 3. \n",
    "\n",
    "Select the first row of data (the first record) from `reviews`, assigning it to the variable `first_row`."
   ]
  },
  {
   "cell_type": "code",
   "execution_count": 7,
   "metadata": {
    "execution": {
     "iopub.execute_input": "2022-07-30T05:24:19.674520Z",
     "iopub.status.busy": "2022-07-30T05:24:19.673666Z",
     "iopub.status.idle": "2022-07-30T05:24:19.692896Z",
     "shell.execute_reply": "2022-07-30T05:24:19.691326Z",
     "shell.execute_reply.started": "2022-07-30T05:24:19.674468Z"
    }
   },
   "outputs": [],
   "source": [
    "first_row = reviews.iloc[0]\n",
    "\n",
    "# Check your answer\n",
    "q3.check()\n",
    "first_row"
   ]
  },
  {
   "cell_type": "code",
   "execution_count": null,
   "metadata": {},
   "outputs": [],
   "source": [
    "#q3.hint()\n",
    "#q3.solution()"
   ]
  },
  {
   "cell_type": "markdown",
   "metadata": {},
   "source": [
    "## 4.\n",
    "\n",
    "Select the first 10 values from the `description` column in `reviews`, assigning the result to variable `first_descriptions`.\n",
    "\n",
    "Hint: format your output as a pandas Series."
   ]
  },
  {
   "cell_type": "code",
   "execution_count": 9,
   "metadata": {
    "execution": {
     "iopub.execute_input": "2022-07-30T05:30:18.588629Z",
     "iopub.status.busy": "2022-07-30T05:30:18.587091Z",
     "iopub.status.idle": "2022-07-30T05:30:18.603044Z",
     "shell.execute_reply": "2022-07-30T05:30:18.602038Z",
     "shell.execute_reply.started": "2022-07-30T05:30:18.588568Z"
    }
   },
   "outputs": [],
   "source": [
    "first_descriptions = reviews.description.loc[0:9]\n",
    "\n",
    "# Check your answer\n",
    "q4.check()\n",
    "first_descriptions"
   ]
  },
  {
   "cell_type": "code",
   "execution_count": null,
   "metadata": {},
   "outputs": [],
   "source": [
    "#q4.hint()\n",
    "#q4.solution()"
   ]
  },
  {
   "cell_type": "markdown",
   "metadata": {},
   "source": [
    "## 5.\n",
    "\n",
    "Select the records with index labels `1`, `2`, `3`, `5`, and `8`, assigning the result to the variable `sample_reviews`.\n",
    "\n",
    "In other words, generate the following DataFrame:\n",
    "\n",
    "![](https://i.imgur.com/sHZvI1O.png)"
   ]
  },
  {
   "cell_type": "code",
   "execution_count": 14,
   "metadata": {
    "execution": {
     "iopub.execute_input": "2022-07-30T05:34:12.685719Z",
     "iopub.status.busy": "2022-07-30T05:34:12.684972Z",
     "iopub.status.idle": "2022-07-30T05:34:12.700628Z",
     "shell.execute_reply": "2022-07-30T05:34:12.699694Z",
     "shell.execute_reply.started": "2022-07-30T05:34:12.685667Z"
    }
   },
   "outputs": [],
   "source": [
    "sample_reviews = reviews.iloc[[1,2,3,5,8],0]\n",
    "\n",
    "# Check your answer\n",
    "q5.check()\n",
    "sample_reviews"
   ]
  },
  {
   "cell_type": "code",
   "execution_count": null,
   "metadata": {},
   "outputs": [],
   "source": [
    "#q5.hint()\n",
    "#q5.solution()"
   ]
  },
  {
   "cell_type": "markdown",
   "metadata": {},
   "source": [
    "## 6.\n",
    "\n",
    "Create a variable `df` containing the `country`, `province`, `region_1`, and `region_2` columns of the records with the index labels `0`, `1`, `10`, and `100`. In other words, generate the following DataFrame:\n",
    "\n",
    "![](https://i.imgur.com/FUCGiKP.png)"
   ]
  },
  {
   "cell_type": "code",
   "execution_count": 21,
   "metadata": {
    "execution": {
     "iopub.execute_input": "2022-07-30T05:42:03.827074Z",
     "iopub.status.busy": "2022-07-30T05:42:03.826087Z",
     "iopub.status.idle": "2022-07-30T05:42:03.850912Z",
     "shell.execute_reply": "2022-07-30T05:42:03.849802Z",
     "shell.execute_reply.started": "2022-07-30T05:42:03.827004Z"
    }
   },
   "outputs": [],
   "source": [
    "df = reviews.loc[[0,1,10,100], ['country','province','region_1','region_2']]\n",
    "\n",
    "# Check your answer\n",
    "q6.check()\n",
    "df"
   ]
  },
  {
   "cell_type": "code",
   "execution_count": 19,
   "metadata": {
    "execution": {
     "iopub.execute_input": "2022-07-30T05:40:01.477566Z",
     "iopub.status.busy": "2022-07-30T05:40:01.477165Z",
     "iopub.status.idle": "2022-07-30T05:40:01.485178Z",
     "shell.execute_reply": "2022-07-30T05:40:01.484340Z",
     "shell.execute_reply.started": "2022-07-30T05:40:01.477532Z"
    }
   },
   "outputs": [],
   "source": [
    "#q6.hint()\n",
    "q6.solution()"
   ]
  },
  {
   "cell_type": "markdown",
   "metadata": {},
   "source": [
    "## 7.\n",
    "\n",
    "Create a variable `df` containing the `country` and `variety` columns of the first 100 records. \n",
    "\n",
    "Hint: you may use `loc` or `iloc`. When working on the answer this question and the several of the ones that follow, keep the following \"gotcha\" described in the tutorial:\n",
    "\n",
    "> `iloc` uses the Python stdlib indexing scheme, where the first element of the range is included and the last one excluded. \n",
    "`loc`, meanwhile, indexes inclusively. \n",
    "\n",
    "> This is particularly confusing when the DataFrame index is a simple numerical list, e.g. `0,...,1000`. In this case `df.iloc[0:1000]` will return 1000 entries, while `df.loc[0:1000]` return 1001 of them! To get 1000 elements using `loc`, you will need to go one lower and ask for `df.iloc[0:999]`. "
   ]
  },
  {
   "cell_type": "code",
   "execution_count": 23,
   "metadata": {
    "execution": {
     "iopub.execute_input": "2022-07-30T05:44:36.845992Z",
     "iopub.status.busy": "2022-07-30T05:44:36.845201Z",
     "iopub.status.idle": "2022-07-30T05:44:36.866178Z",
     "shell.execute_reply": "2022-07-30T05:44:36.865336Z",
     "shell.execute_reply.started": "2022-07-30T05:44:36.845945Z"
    }
   },
   "outputs": [],
   "source": [
    "df = reviews.loc[0:99,['country','variety']]\n",
    "\n",
    "# Check your answer\n",
    "q7.check()\n",
    "df"
   ]
  },
  {
   "cell_type": "code",
   "execution_count": null,
   "metadata": {},
   "outputs": [],
   "source": [
    "#q7.hint()\n",
    "#q7.solution()"
   ]
  },
  {
   "cell_type": "markdown",
   "metadata": {},
   "source": [
    "## 8.\n",
    "\n",
    "Create a DataFrame `italian_wines` containing reviews of wines made in `Italy`. Hint: `reviews.country` equals what?"
   ]
  },
  {
   "cell_type": "code",
   "execution_count": 25,
   "metadata": {
    "execution": {
     "iopub.execute_input": "2022-07-30T05:46:37.437762Z",
     "iopub.status.busy": "2022-07-30T05:46:37.436679Z",
     "iopub.status.idle": "2022-07-30T05:46:37.493106Z",
     "shell.execute_reply": "2022-07-30T05:46:37.492271Z",
     "shell.execute_reply.started": "2022-07-30T05:46:37.437720Z"
    }
   },
   "outputs": [],
   "source": [
    "italian_wines = reviews.loc[reviews.country=='Italy']\n",
    "\n",
    "# Check your answer\n",
    "q8.check()\n",
    "italian_wines"
   ]
  },
  {
   "cell_type": "code",
   "execution_count": null,
   "metadata": {},
   "outputs": [],
   "source": [
    "#q8.hint()\n",
    "#q8.solution()"
   ]
  },
  {
   "cell_type": "markdown",
   "metadata": {},
   "source": [
    "## 9.\n",
    "\n",
    "Create a DataFrame `top_oceania_wines` containing all reviews with at least 95 points (out of 100) for wines from Australia or New Zealand."
   ]
  },
  {
   "cell_type": "code",
   "execution_count": 38,
   "metadata": {
    "execution": {
     "iopub.execute_input": "2022-07-30T05:54:27.940931Z",
     "iopub.status.busy": "2022-07-30T05:54:27.940444Z",
     "iopub.status.idle": "2022-07-30T05:54:27.985303Z",
     "shell.execute_reply": "2022-07-30T05:54:27.984505Z",
     "shell.execute_reply.started": "2022-07-30T05:54:27.940896Z"
    }
   },
   "outputs": [],
   "source": [
    "two_countries = reviews.loc[reviews.country.isin(['Australia', 'New Zealand'])]\n",
    "top_oceania_wines = two_countries.loc[two_countries.points>=95]\n",
    "\n",
    "# Check your answer\n",
    "q9.check()\n",
    "top_oceania_wines"
   ]
  },
  {
   "cell_type": "code",
   "execution_count": 39,
   "metadata": {
    "execution": {
     "iopub.execute_input": "2022-07-30T05:54:55.368129Z",
     "iopub.status.busy": "2022-07-30T05:54:55.366951Z",
     "iopub.status.idle": "2022-07-30T05:54:55.372822Z",
     "shell.execute_reply": "2022-07-30T05:54:55.371558Z",
     "shell.execute_reply.started": "2022-07-30T05:54:55.368081Z"
    }
   },
   "outputs": [],
   "source": [
    "#q9.hint()\n",
    "#q9.solution()\n"
   ]
  },
  {
   "cell_type": "markdown",
   "metadata": {},
   "source": [
    "# Keep going\n",
    "\n",
    "Move on to learn about **[summary functions and maps](https://www.kaggle.com/residentmario/summary-functions-and-maps)**."
   ]
  },
  {
   "cell_type": "markdown",
   "metadata": {},
   "source": [
    "---\n",
    "\n",
    "\n",
    "\n",
    "\n",
    "*Have questions or comments? Visit the [course discussion forum](https://www.kaggle.com/learn/pandas/discussion) to chat with other learners.*"
   ]
  }
 ],
 "metadata": {
  "kernelspec": {
   "display_name": "Python 3",
   "language": "python",
   "name": "python3"
  },
  "language_info": {
   "codemirror_mode": {
    "name": "ipython",
    "version": 3
   },
   "file_extension": ".py",
   "mimetype": "text/x-python",
   "name": "python",
   "nbconvert_exporter": "python",
   "pygments_lexer": "ipython3",
   "version": "3.7.12"
  }
 },
 "nbformat": 4,
 "nbformat_minor": 4
}
