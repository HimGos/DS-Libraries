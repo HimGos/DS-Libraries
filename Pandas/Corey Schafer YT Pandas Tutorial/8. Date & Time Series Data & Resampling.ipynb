{
 "cells": [
  {
   "cell_type": "code",
   "execution_count": 1,
   "id": "73a82658",
   "metadata": {},
   "outputs": [],
   "source": [
    "import pandas as pd"
   ]
  },
  {
   "cell_type": "code",
   "execution_count": 2,
   "id": "6d5951fe",
   "metadata": {},
   "outputs": [],
   "source": [
    "df = pd.read_csv(r'https://raw.githubusercontent.com/CoreyMSchafer/code_snippets/master/Python/Pandas/10-Datetime-Timeseries/ETH_1h.csv')"
   ]
  },
  {
   "cell_type": "code",
   "execution_count": 3,
   "id": "4e158c69",
   "metadata": {},
   "outputs": [
    {
     "data": {
      "text/html": [
       "<div>\n",
       "<style scoped>\n",
       "    .dataframe tbody tr th:only-of-type {\n",
       "        vertical-align: middle;\n",
       "    }\n",
       "\n",
       "    .dataframe tbody tr th {\n",
       "        vertical-align: top;\n",
       "    }\n",
       "\n",
       "    .dataframe thead th {\n",
       "        text-align: right;\n",
       "    }\n",
       "</style>\n",
       "<table border=\"1\" class=\"dataframe\">\n",
       "  <thead>\n",
       "    <tr style=\"text-align: right;\">\n",
       "      <th></th>\n",
       "      <th>Date</th>\n",
       "      <th>Symbol</th>\n",
       "      <th>Open</th>\n",
       "      <th>High</th>\n",
       "      <th>Low</th>\n",
       "      <th>Close</th>\n",
       "      <th>Volume</th>\n",
       "    </tr>\n",
       "  </thead>\n",
       "  <tbody>\n",
       "    <tr>\n",
       "      <th>0</th>\n",
       "      <td>2020-03-13 08-PM</td>\n",
       "      <td>ETHUSD</td>\n",
       "      <td>129.94</td>\n",
       "      <td>131.82</td>\n",
       "      <td>126.87</td>\n",
       "      <td>128.71</td>\n",
       "      <td>1940673.93</td>\n",
       "    </tr>\n",
       "    <tr>\n",
       "      <th>1</th>\n",
       "      <td>2020-03-13 07-PM</td>\n",
       "      <td>ETHUSD</td>\n",
       "      <td>119.51</td>\n",
       "      <td>132.02</td>\n",
       "      <td>117.10</td>\n",
       "      <td>129.94</td>\n",
       "      <td>7579741.09</td>\n",
       "    </tr>\n",
       "    <tr>\n",
       "      <th>2</th>\n",
       "      <td>2020-03-13 06-PM</td>\n",
       "      <td>ETHUSD</td>\n",
       "      <td>124.47</td>\n",
       "      <td>124.85</td>\n",
       "      <td>115.50</td>\n",
       "      <td>119.51</td>\n",
       "      <td>4898735.81</td>\n",
       "    </tr>\n",
       "    <tr>\n",
       "      <th>3</th>\n",
       "      <td>2020-03-13 05-PM</td>\n",
       "      <td>ETHUSD</td>\n",
       "      <td>124.08</td>\n",
       "      <td>127.42</td>\n",
       "      <td>121.63</td>\n",
       "      <td>124.47</td>\n",
       "      <td>2753450.92</td>\n",
       "    </tr>\n",
       "    <tr>\n",
       "      <th>4</th>\n",
       "      <td>2020-03-13 04-PM</td>\n",
       "      <td>ETHUSD</td>\n",
       "      <td>124.85</td>\n",
       "      <td>129.51</td>\n",
       "      <td>120.17</td>\n",
       "      <td>124.08</td>\n",
       "      <td>4461424.71</td>\n",
       "    </tr>\n",
       "  </tbody>\n",
       "</table>\n",
       "</div>"
      ],
      "text/plain": [
       "               Date  Symbol    Open    High     Low   Close      Volume\n",
       "0  2020-03-13 08-PM  ETHUSD  129.94  131.82  126.87  128.71  1940673.93\n",
       "1  2020-03-13 07-PM  ETHUSD  119.51  132.02  117.10  129.94  7579741.09\n",
       "2  2020-03-13 06-PM  ETHUSD  124.47  124.85  115.50  119.51  4898735.81\n",
       "3  2020-03-13 05-PM  ETHUSD  124.08  127.42  121.63  124.47  2753450.92\n",
       "4  2020-03-13 04-PM  ETHUSD  124.85  129.51  120.17  124.08  4461424.71"
      ]
     },
     "execution_count": 3,
     "metadata": {},
     "output_type": "execute_result"
    }
   ],
   "source": [
    "df.head()"
   ]
  },
  {
   "cell_type": "markdown",
   "id": "1900d77e",
   "metadata": {},
   "source": [
    "##### "
   ]
  },
  {
   "cell_type": "code",
   "execution_count": 4,
   "id": "5db92d13",
   "metadata": {},
   "outputs": [
    {
     "ename": "AttributeError",
     "evalue": "'str' object has no attribute 'day_name'",
     "output_type": "error",
     "traceback": [
      "\u001b[1;31m---------------------------------------------------------------------------\u001b[0m",
      "\u001b[1;31mAttributeError\u001b[0m                            Traceback (most recent call last)",
      "Input \u001b[1;32mIn [4]\u001b[0m, in \u001b[0;36m<cell line: 1>\u001b[1;34m()\u001b[0m\n\u001b[1;32m----> 1\u001b[0m \u001b[43mdf\u001b[49m\u001b[38;5;241;43m.\u001b[39;49m\u001b[43mloc\u001b[49m\u001b[43m[\u001b[49m\u001b[38;5;241;43m0\u001b[39;49m\u001b[43m,\u001b[49m\u001b[38;5;124;43m'\u001b[39;49m\u001b[38;5;124;43mDate\u001b[39;49m\u001b[38;5;124;43m'\u001b[39;49m\u001b[43m]\u001b[49m\u001b[38;5;241;43m.\u001b[39;49m\u001b[43mday_name\u001b[49m()\n",
      "\u001b[1;31mAttributeError\u001b[0m: 'str' object has no attribute 'day_name'"
     ]
    }
   ],
   "source": [
    "df.loc[0,'Date'].day_name()             # error becoz currently it's in string format"
   ]
  },
  {
   "cell_type": "code",
   "execution_count": 5,
   "id": "1fa17942",
   "metadata": {},
   "outputs": [],
   "source": [
    "df['Date'] = pd.to_datetime(df['Date'],format='%Y-%m-%d %I-%p')          # formatting differs in different cases"
   ]
  },
  {
   "cell_type": "code",
   "execution_count": 6,
   "id": "e7d893ac",
   "metadata": {},
   "outputs": [
    {
     "data": {
      "text/plain": [
       "0   2020-03-13 20:00:00\n",
       "1   2020-03-13 19:00:00\n",
       "Name: Date, dtype: datetime64[ns]"
      ]
     },
     "execution_count": 6,
     "metadata": {},
     "output_type": "execute_result"
    }
   ],
   "source": [
    "df['Date'].head(2)"
   ]
  },
  {
   "cell_type": "code",
   "execution_count": 7,
   "id": "7144ea75",
   "metadata": {},
   "outputs": [
    {
     "data": {
      "text/plain": [
       "'Friday'"
      ]
     },
     "execution_count": 7,
     "metadata": {},
     "output_type": "execute_result"
    }
   ],
   "source": [
    "df.loc[0,'Date'].day_name()"
   ]
  },
  {
   "cell_type": "markdown",
   "id": "a271a7f3",
   "metadata": {},
   "source": [
    "##### "
   ]
  },
  {
   "cell_type": "markdown",
   "id": "fa4139e5",
   "metadata": {},
   "source": [
    "### We can also define date during df loading..."
   ]
  },
  {
   "cell_type": "code",
   "execution_count": 8,
   "id": "2339b774",
   "metadata": {},
   "outputs": [
    {
     "name": "stderr",
     "output_type": "stream",
     "text": [
      "C:\\Users\\Himz\\AppData\\Local\\Temp\\ipykernel_3076\\2246000826.py:1: FutureWarning: The pandas.datetime class is deprecated and will be removed from pandas in a future version. Import from datetime module instead.\n",
      "  d_parser = lambda x: pd.datetime.strptime(x,'%Y-%m-%d %I-%p' )\n"
     ]
    }
   ],
   "source": [
    "d_parser = lambda x: pd.datetime.strptime(x,'%Y-%m-%d %I-%p' )\n",
    "\n",
    "df = pd.read_csv(r'https://raw.githubusercontent.com/CoreyMSchafer/code_snippets/master/Python/Pandas/10-Datetime-Timeseries/ETH_1h.csv',\n",
    "                parse_dates=['Date'], date_parser=d_parser)"
   ]
  },
  {
   "cell_type": "code",
   "execution_count": 9,
   "id": "ff1db3b9",
   "metadata": {},
   "outputs": [
    {
     "data": {
      "text/html": [
       "<div>\n",
       "<style scoped>\n",
       "    .dataframe tbody tr th:only-of-type {\n",
       "        vertical-align: middle;\n",
       "    }\n",
       "\n",
       "    .dataframe tbody tr th {\n",
       "        vertical-align: top;\n",
       "    }\n",
       "\n",
       "    .dataframe thead th {\n",
       "        text-align: right;\n",
       "    }\n",
       "</style>\n",
       "<table border=\"1\" class=\"dataframe\">\n",
       "  <thead>\n",
       "    <tr style=\"text-align: right;\">\n",
       "      <th></th>\n",
       "      <th>Date</th>\n",
       "      <th>Symbol</th>\n",
       "      <th>Open</th>\n",
       "      <th>High</th>\n",
       "      <th>Low</th>\n",
       "      <th>Close</th>\n",
       "      <th>Volume</th>\n",
       "    </tr>\n",
       "  </thead>\n",
       "  <tbody>\n",
       "    <tr>\n",
       "      <th>0</th>\n",
       "      <td>2020-03-13 20:00:00</td>\n",
       "      <td>ETHUSD</td>\n",
       "      <td>129.94</td>\n",
       "      <td>131.82</td>\n",
       "      <td>126.87</td>\n",
       "      <td>128.71</td>\n",
       "      <td>1940673.93</td>\n",
       "    </tr>\n",
       "    <tr>\n",
       "      <th>1</th>\n",
       "      <td>2020-03-13 19:00:00</td>\n",
       "      <td>ETHUSD</td>\n",
       "      <td>119.51</td>\n",
       "      <td>132.02</td>\n",
       "      <td>117.10</td>\n",
       "      <td>129.94</td>\n",
       "      <td>7579741.09</td>\n",
       "    </tr>\n",
       "  </tbody>\n",
       "</table>\n",
       "</div>"
      ],
      "text/plain": [
       "                 Date  Symbol    Open    High     Low   Close      Volume\n",
       "0 2020-03-13 20:00:00  ETHUSD  129.94  131.82  126.87  128.71  1940673.93\n",
       "1 2020-03-13 19:00:00  ETHUSD  119.51  132.02  117.10  129.94  7579741.09"
      ]
     },
     "execution_count": 9,
     "metadata": {},
     "output_type": "execute_result"
    }
   ],
   "source": [
    "df.head(2)"
   ]
  },
  {
   "cell_type": "markdown",
   "id": "2c055c28",
   "metadata": {},
   "source": [
    "##### "
   ]
  },
  {
   "cell_type": "code",
   "execution_count": 10,
   "id": "4b7a5a78",
   "metadata": {},
   "outputs": [
    {
     "data": {
      "text/plain": [
       "0          Friday\n",
       "1          Friday\n",
       "2          Friday\n",
       "3          Friday\n",
       "4          Friday\n",
       "           ...   \n",
       "23669    Saturday\n",
       "23670    Saturday\n",
       "23671    Saturday\n",
       "23672    Saturday\n",
       "23673    Saturday\n",
       "Name: Date, Length: 23674, dtype: object"
      ]
     },
     "execution_count": 10,
     "metadata": {},
     "output_type": "execute_result"
    }
   ],
   "source": [
    "df['Date'].dt.day_name()"
   ]
  },
  {
   "cell_type": "code",
   "execution_count": 11,
   "id": "5ab5fc06",
   "metadata": {},
   "outputs": [
    {
     "data": {
      "text/html": [
       "<div>\n",
       "<style scoped>\n",
       "    .dataframe tbody tr th:only-of-type {\n",
       "        vertical-align: middle;\n",
       "    }\n",
       "\n",
       "    .dataframe tbody tr th {\n",
       "        vertical-align: top;\n",
       "    }\n",
       "\n",
       "    .dataframe thead th {\n",
       "        text-align: right;\n",
       "    }\n",
       "</style>\n",
       "<table border=\"1\" class=\"dataframe\">\n",
       "  <thead>\n",
       "    <tr style=\"text-align: right;\">\n",
       "      <th></th>\n",
       "      <th>Date</th>\n",
       "      <th>Symbol</th>\n",
       "      <th>Open</th>\n",
       "      <th>High</th>\n",
       "      <th>Low</th>\n",
       "      <th>Close</th>\n",
       "      <th>Volume</th>\n",
       "      <th>DayOfWeek</th>\n",
       "    </tr>\n",
       "  </thead>\n",
       "  <tbody>\n",
       "    <tr>\n",
       "      <th>0</th>\n",
       "      <td>2020-03-13 20:00:00</td>\n",
       "      <td>ETHUSD</td>\n",
       "      <td>129.94</td>\n",
       "      <td>131.82</td>\n",
       "      <td>126.87</td>\n",
       "      <td>128.71</td>\n",
       "      <td>1940673.93</td>\n",
       "      <td>Friday</td>\n",
       "    </tr>\n",
       "    <tr>\n",
       "      <th>1</th>\n",
       "      <td>2020-03-13 19:00:00</td>\n",
       "      <td>ETHUSD</td>\n",
       "      <td>119.51</td>\n",
       "      <td>132.02</td>\n",
       "      <td>117.10</td>\n",
       "      <td>129.94</td>\n",
       "      <td>7579741.09</td>\n",
       "      <td>Friday</td>\n",
       "    </tr>\n",
       "  </tbody>\n",
       "</table>\n",
       "</div>"
      ],
      "text/plain": [
       "                 Date  Symbol    Open    High     Low   Close      Volume  \\\n",
       "0 2020-03-13 20:00:00  ETHUSD  129.94  131.82  126.87  128.71  1940673.93   \n",
       "1 2020-03-13 19:00:00  ETHUSD  119.51  132.02  117.10  129.94  7579741.09   \n",
       "\n",
       "  DayOfWeek  \n",
       "0    Friday  \n",
       "1    Friday  "
      ]
     },
     "execution_count": 11,
     "metadata": {},
     "output_type": "execute_result"
    }
   ],
   "source": [
    "df['DayOfWeek'] = df['Date'].dt.day_name()             # Assigning a new column of days\n",
    "\n",
    "df.head(2)"
   ]
  },
  {
   "cell_type": "markdown",
   "id": "896cb144",
   "metadata": {},
   "source": [
    "##### To see earlist date"
   ]
  },
  {
   "cell_type": "code",
   "execution_count": 12,
   "id": "e76b832c",
   "metadata": {},
   "outputs": [
    {
     "data": {
      "text/plain": [
       "Timestamp('2017-07-01 11:00:00')"
      ]
     },
     "execution_count": 12,
     "metadata": {},
     "output_type": "execute_result"
    }
   ],
   "source": [
    "df['Date'].min()"
   ]
  },
  {
   "cell_type": "markdown",
   "id": "d0b7180c",
   "metadata": {},
   "source": [
    "##### To see most recent date"
   ]
  },
  {
   "cell_type": "code",
   "execution_count": 13,
   "id": "b3f83ebd",
   "metadata": {},
   "outputs": [
    {
     "data": {
      "text/plain": [
       "Timestamp('2020-03-13 20:00:00')"
      ]
     },
     "execution_count": 13,
     "metadata": {},
     "output_type": "execute_result"
    }
   ],
   "source": [
    "df['Date'].max()"
   ]
  },
  {
   "cell_type": "markdown",
   "id": "52312300",
   "metadata": {},
   "source": [
    "##### To get the amont of time between these two dates"
   ]
  },
  {
   "cell_type": "code",
   "execution_count": 14,
   "id": "0bdeaefb",
   "metadata": {},
   "outputs": [
    {
     "data": {
      "text/plain": [
       "Timedelta('986 days 09:00:00')"
      ]
     },
     "execution_count": 14,
     "metadata": {},
     "output_type": "execute_result"
    }
   ],
   "source": [
    "df['Date'].max() - df['Date'].min()"
   ]
  },
  {
   "cell_type": "markdown",
   "id": "2e5beb1e",
   "metadata": {},
   "source": [
    "##### "
   ]
  },
  {
   "cell_type": "markdown",
   "id": "12bd4f2a",
   "metadata": {},
   "source": [
    "### Filtering Time"
   ]
  },
  {
   "cell_type": "code",
   "execution_count": 15,
   "id": "3f7e6eb4",
   "metadata": {},
   "outputs": [
    {
     "data": {
      "text/html": [
       "<div>\n",
       "<style scoped>\n",
       "    .dataframe tbody tr th:only-of-type {\n",
       "        vertical-align: middle;\n",
       "    }\n",
       "\n",
       "    .dataframe tbody tr th {\n",
       "        vertical-align: top;\n",
       "    }\n",
       "\n",
       "    .dataframe thead th {\n",
       "        text-align: right;\n",
       "    }\n",
       "</style>\n",
       "<table border=\"1\" class=\"dataframe\">\n",
       "  <thead>\n",
       "    <tr style=\"text-align: right;\">\n",
       "      <th></th>\n",
       "      <th>Date</th>\n",
       "      <th>Symbol</th>\n",
       "      <th>Open</th>\n",
       "      <th>High</th>\n",
       "      <th>Low</th>\n",
       "      <th>Close</th>\n",
       "      <th>Volume</th>\n",
       "      <th>DayOfWeek</th>\n",
       "    </tr>\n",
       "  </thead>\n",
       "  <tbody>\n",
       "    <tr>\n",
       "      <th>1749</th>\n",
       "      <td>2019-12-31 23:00:00</td>\n",
       "      <td>ETHUSD</td>\n",
       "      <td>128.33</td>\n",
       "      <td>128.69</td>\n",
       "      <td>128.14</td>\n",
       "      <td>128.54</td>\n",
       "      <td>440678.91</td>\n",
       "      <td>Tuesday</td>\n",
       "    </tr>\n",
       "    <tr>\n",
       "      <th>1750</th>\n",
       "      <td>2019-12-31 22:00:00</td>\n",
       "      <td>ETHUSD</td>\n",
       "      <td>128.38</td>\n",
       "      <td>128.69</td>\n",
       "      <td>127.95</td>\n",
       "      <td>128.33</td>\n",
       "      <td>554646.02</td>\n",
       "      <td>Tuesday</td>\n",
       "    </tr>\n",
       "    <tr>\n",
       "      <th>1751</th>\n",
       "      <td>2019-12-31 21:00:00</td>\n",
       "      <td>ETHUSD</td>\n",
       "      <td>127.86</td>\n",
       "      <td>128.43</td>\n",
       "      <td>127.72</td>\n",
       "      <td>128.38</td>\n",
       "      <td>350155.69</td>\n",
       "      <td>Tuesday</td>\n",
       "    </tr>\n",
       "    <tr>\n",
       "      <th>1752</th>\n",
       "      <td>2019-12-31 20:00:00</td>\n",
       "      <td>ETHUSD</td>\n",
       "      <td>127.84</td>\n",
       "      <td>128.34</td>\n",
       "      <td>127.71</td>\n",
       "      <td>127.86</td>\n",
       "      <td>428183.38</td>\n",
       "      <td>Tuesday</td>\n",
       "    </tr>\n",
       "    <tr>\n",
       "      <th>1753</th>\n",
       "      <td>2019-12-31 19:00:00</td>\n",
       "      <td>ETHUSD</td>\n",
       "      <td>128.69</td>\n",
       "      <td>128.69</td>\n",
       "      <td>127.60</td>\n",
       "      <td>127.84</td>\n",
       "      <td>1169847.84</td>\n",
       "      <td>Tuesday</td>\n",
       "    </tr>\n",
       "    <tr>\n",
       "      <th>...</th>\n",
       "      <td>...</td>\n",
       "      <td>...</td>\n",
       "      <td>...</td>\n",
       "      <td>...</td>\n",
       "      <td>...</td>\n",
       "      <td>...</td>\n",
       "      <td>...</td>\n",
       "      <td>...</td>\n",
       "    </tr>\n",
       "    <tr>\n",
       "      <th>10504</th>\n",
       "      <td>2019-01-01 04:00:00</td>\n",
       "      <td>ETHUSD</td>\n",
       "      <td>130.75</td>\n",
       "      <td>133.96</td>\n",
       "      <td>130.74</td>\n",
       "      <td>131.96</td>\n",
       "      <td>2791135.37</td>\n",
       "      <td>Tuesday</td>\n",
       "    </tr>\n",
       "    <tr>\n",
       "      <th>10505</th>\n",
       "      <td>2019-01-01 03:00:00</td>\n",
       "      <td>ETHUSD</td>\n",
       "      <td>130.06</td>\n",
       "      <td>130.79</td>\n",
       "      <td>130.06</td>\n",
       "      <td>130.75</td>\n",
       "      <td>503732.63</td>\n",
       "      <td>Tuesday</td>\n",
       "    </tr>\n",
       "    <tr>\n",
       "      <th>10506</th>\n",
       "      <td>2019-01-01 02:00:00</td>\n",
       "      <td>ETHUSD</td>\n",
       "      <td>130.79</td>\n",
       "      <td>130.88</td>\n",
       "      <td>129.55</td>\n",
       "      <td>130.06</td>\n",
       "      <td>838183.43</td>\n",
       "      <td>Tuesday</td>\n",
       "    </tr>\n",
       "    <tr>\n",
       "      <th>10507</th>\n",
       "      <td>2019-01-01 01:00:00</td>\n",
       "      <td>ETHUSD</td>\n",
       "      <td>131.62</td>\n",
       "      <td>131.62</td>\n",
       "      <td>130.77</td>\n",
       "      <td>130.79</td>\n",
       "      <td>434917.99</td>\n",
       "      <td>Tuesday</td>\n",
       "    </tr>\n",
       "    <tr>\n",
       "      <th>10508</th>\n",
       "      <td>2019-01-01 00:00:00</td>\n",
       "      <td>ETHUSD</td>\n",
       "      <td>130.53</td>\n",
       "      <td>131.91</td>\n",
       "      <td>130.48</td>\n",
       "      <td>131.62</td>\n",
       "      <td>1067136.21</td>\n",
       "      <td>Tuesday</td>\n",
       "    </tr>\n",
       "  </tbody>\n",
       "</table>\n",
       "<p>8760 rows × 8 columns</p>\n",
       "</div>"
      ],
      "text/plain": [
       "                     Date  Symbol    Open    High     Low   Close      Volume  \\\n",
       "1749  2019-12-31 23:00:00  ETHUSD  128.33  128.69  128.14  128.54   440678.91   \n",
       "1750  2019-12-31 22:00:00  ETHUSD  128.38  128.69  127.95  128.33   554646.02   \n",
       "1751  2019-12-31 21:00:00  ETHUSD  127.86  128.43  127.72  128.38   350155.69   \n",
       "1752  2019-12-31 20:00:00  ETHUSD  127.84  128.34  127.71  127.86   428183.38   \n",
       "1753  2019-12-31 19:00:00  ETHUSD  128.69  128.69  127.60  127.84  1169847.84   \n",
       "...                   ...     ...     ...     ...     ...     ...         ...   \n",
       "10504 2019-01-01 04:00:00  ETHUSD  130.75  133.96  130.74  131.96  2791135.37   \n",
       "10505 2019-01-01 03:00:00  ETHUSD  130.06  130.79  130.06  130.75   503732.63   \n",
       "10506 2019-01-01 02:00:00  ETHUSD  130.79  130.88  129.55  130.06   838183.43   \n",
       "10507 2019-01-01 01:00:00  ETHUSD  131.62  131.62  130.77  130.79   434917.99   \n",
       "10508 2019-01-01 00:00:00  ETHUSD  130.53  131.91  130.48  131.62  1067136.21   \n",
       "\n",
       "      DayOfWeek  \n",
       "1749    Tuesday  \n",
       "1750    Tuesday  \n",
       "1751    Tuesday  \n",
       "1752    Tuesday  \n",
       "1753    Tuesday  \n",
       "...         ...  \n",
       "10504   Tuesday  \n",
       "10505   Tuesday  \n",
       "10506   Tuesday  \n",
       "10507   Tuesday  \n",
       "10508   Tuesday  \n",
       "\n",
       "[8760 rows x 8 columns]"
      ]
     },
     "execution_count": 15,
     "metadata": {},
     "output_type": "execute_result"
    }
   ],
   "source": [
    "filt = (df['Date'] >= '2019') & (df['Date'] < '2020')\n",
    "df.loc[filt]"
   ]
  },
  {
   "cell_type": "code",
   "execution_count": 16,
   "id": "6dec43ba",
   "metadata": {},
   "outputs": [
    {
     "data": {
      "text/html": [
       "<div>\n",
       "<style scoped>\n",
       "    .dataframe tbody tr th:only-of-type {\n",
       "        vertical-align: middle;\n",
       "    }\n",
       "\n",
       "    .dataframe tbody tr th {\n",
       "        vertical-align: top;\n",
       "    }\n",
       "\n",
       "    .dataframe thead th {\n",
       "        text-align: right;\n",
       "    }\n",
       "</style>\n",
       "<table border=\"1\" class=\"dataframe\">\n",
       "  <thead>\n",
       "    <tr style=\"text-align: right;\">\n",
       "      <th></th>\n",
       "      <th>Date</th>\n",
       "      <th>Symbol</th>\n",
       "      <th>Open</th>\n",
       "      <th>High</th>\n",
       "      <th>Low</th>\n",
       "      <th>Close</th>\n",
       "      <th>Volume</th>\n",
       "      <th>DayOfWeek</th>\n",
       "    </tr>\n",
       "  </thead>\n",
       "  <tbody>\n",
       "    <tr>\n",
       "      <th>1749</th>\n",
       "      <td>2019-12-31 23:00:00</td>\n",
       "      <td>ETHUSD</td>\n",
       "      <td>128.33</td>\n",
       "      <td>128.69</td>\n",
       "      <td>128.14</td>\n",
       "      <td>128.54</td>\n",
       "      <td>440678.91</td>\n",
       "      <td>Tuesday</td>\n",
       "    </tr>\n",
       "    <tr>\n",
       "      <th>1750</th>\n",
       "      <td>2019-12-31 22:00:00</td>\n",
       "      <td>ETHUSD</td>\n",
       "      <td>128.38</td>\n",
       "      <td>128.69</td>\n",
       "      <td>127.95</td>\n",
       "      <td>128.33</td>\n",
       "      <td>554646.02</td>\n",
       "      <td>Tuesday</td>\n",
       "    </tr>\n",
       "    <tr>\n",
       "      <th>1751</th>\n",
       "      <td>2019-12-31 21:00:00</td>\n",
       "      <td>ETHUSD</td>\n",
       "      <td>127.86</td>\n",
       "      <td>128.43</td>\n",
       "      <td>127.72</td>\n",
       "      <td>128.38</td>\n",
       "      <td>350155.69</td>\n",
       "      <td>Tuesday</td>\n",
       "    </tr>\n",
       "    <tr>\n",
       "      <th>1752</th>\n",
       "      <td>2019-12-31 20:00:00</td>\n",
       "      <td>ETHUSD</td>\n",
       "      <td>127.84</td>\n",
       "      <td>128.34</td>\n",
       "      <td>127.71</td>\n",
       "      <td>127.86</td>\n",
       "      <td>428183.38</td>\n",
       "      <td>Tuesday</td>\n",
       "    </tr>\n",
       "    <tr>\n",
       "      <th>1753</th>\n",
       "      <td>2019-12-31 19:00:00</td>\n",
       "      <td>ETHUSD</td>\n",
       "      <td>128.69</td>\n",
       "      <td>128.69</td>\n",
       "      <td>127.60</td>\n",
       "      <td>127.84</td>\n",
       "      <td>1169847.84</td>\n",
       "      <td>Tuesday</td>\n",
       "    </tr>\n",
       "    <tr>\n",
       "      <th>...</th>\n",
       "      <td>...</td>\n",
       "      <td>...</td>\n",
       "      <td>...</td>\n",
       "      <td>...</td>\n",
       "      <td>...</td>\n",
       "      <td>...</td>\n",
       "      <td>...</td>\n",
       "      <td>...</td>\n",
       "    </tr>\n",
       "    <tr>\n",
       "      <th>10504</th>\n",
       "      <td>2019-01-01 04:00:00</td>\n",
       "      <td>ETHUSD</td>\n",
       "      <td>130.75</td>\n",
       "      <td>133.96</td>\n",
       "      <td>130.74</td>\n",
       "      <td>131.96</td>\n",
       "      <td>2791135.37</td>\n",
       "      <td>Tuesday</td>\n",
       "    </tr>\n",
       "    <tr>\n",
       "      <th>10505</th>\n",
       "      <td>2019-01-01 03:00:00</td>\n",
       "      <td>ETHUSD</td>\n",
       "      <td>130.06</td>\n",
       "      <td>130.79</td>\n",
       "      <td>130.06</td>\n",
       "      <td>130.75</td>\n",
       "      <td>503732.63</td>\n",
       "      <td>Tuesday</td>\n",
       "    </tr>\n",
       "    <tr>\n",
       "      <th>10506</th>\n",
       "      <td>2019-01-01 02:00:00</td>\n",
       "      <td>ETHUSD</td>\n",
       "      <td>130.79</td>\n",
       "      <td>130.88</td>\n",
       "      <td>129.55</td>\n",
       "      <td>130.06</td>\n",
       "      <td>838183.43</td>\n",
       "      <td>Tuesday</td>\n",
       "    </tr>\n",
       "    <tr>\n",
       "      <th>10507</th>\n",
       "      <td>2019-01-01 01:00:00</td>\n",
       "      <td>ETHUSD</td>\n",
       "      <td>131.62</td>\n",
       "      <td>131.62</td>\n",
       "      <td>130.77</td>\n",
       "      <td>130.79</td>\n",
       "      <td>434917.99</td>\n",
       "      <td>Tuesday</td>\n",
       "    </tr>\n",
       "    <tr>\n",
       "      <th>10508</th>\n",
       "      <td>2019-01-01 00:00:00</td>\n",
       "      <td>ETHUSD</td>\n",
       "      <td>130.53</td>\n",
       "      <td>131.91</td>\n",
       "      <td>130.48</td>\n",
       "      <td>131.62</td>\n",
       "      <td>1067136.21</td>\n",
       "      <td>Tuesday</td>\n",
       "    </tr>\n",
       "  </tbody>\n",
       "</table>\n",
       "<p>8760 rows × 8 columns</p>\n",
       "</div>"
      ],
      "text/plain": [
       "                     Date  Symbol    Open    High     Low   Close      Volume  \\\n",
       "1749  2019-12-31 23:00:00  ETHUSD  128.33  128.69  128.14  128.54   440678.91   \n",
       "1750  2019-12-31 22:00:00  ETHUSD  128.38  128.69  127.95  128.33   554646.02   \n",
       "1751  2019-12-31 21:00:00  ETHUSD  127.86  128.43  127.72  128.38   350155.69   \n",
       "1752  2019-12-31 20:00:00  ETHUSD  127.84  128.34  127.71  127.86   428183.38   \n",
       "1753  2019-12-31 19:00:00  ETHUSD  128.69  128.69  127.60  127.84  1169847.84   \n",
       "...                   ...     ...     ...     ...     ...     ...         ...   \n",
       "10504 2019-01-01 04:00:00  ETHUSD  130.75  133.96  130.74  131.96  2791135.37   \n",
       "10505 2019-01-01 03:00:00  ETHUSD  130.06  130.79  130.06  130.75   503732.63   \n",
       "10506 2019-01-01 02:00:00  ETHUSD  130.79  130.88  129.55  130.06   838183.43   \n",
       "10507 2019-01-01 01:00:00  ETHUSD  131.62  131.62  130.77  130.79   434917.99   \n",
       "10508 2019-01-01 00:00:00  ETHUSD  130.53  131.91  130.48  131.62  1067136.21   \n",
       "\n",
       "      DayOfWeek  \n",
       "1749    Tuesday  \n",
       "1750    Tuesday  \n",
       "1751    Tuesday  \n",
       "1752    Tuesday  \n",
       "1753    Tuesday  \n",
       "...         ...  \n",
       "10504   Tuesday  \n",
       "10505   Tuesday  \n",
       "10506   Tuesday  \n",
       "10507   Tuesday  \n",
       "10508   Tuesday  \n",
       "\n",
       "[8760 rows x 8 columns]"
      ]
     },
     "execution_count": 16,
     "metadata": {},
     "output_type": "execute_result"
    }
   ],
   "source": [
    "filt = (df['Date'] >= pd.to_datetime('2019-01-01')) & (df['Date'] < pd.to_datetime('2020-01-01'))\n",
    "df.loc[filt]  \n",
    "\n",
    "# Gives same result"
   ]
  },
  {
   "cell_type": "markdown",
   "id": "c1b0d7ad",
   "metadata": {},
   "source": [
    "### "
   ]
  },
  {
   "cell_type": "markdown",
   "id": "721bb8fa",
   "metadata": {},
   "source": [
    "#### If you wanna use Dates as index, since they are unique in this table..."
   ]
  },
  {
   "cell_type": "code",
   "execution_count": 17,
   "id": "95920f3d",
   "metadata": {},
   "outputs": [],
   "source": [
    "df.set_index('Date', inplace=True)"
   ]
  },
  {
   "cell_type": "code",
   "execution_count": 18,
   "id": "7c50598e",
   "metadata": {},
   "outputs": [
    {
     "data": {
      "text/html": [
       "<div>\n",
       "<style scoped>\n",
       "    .dataframe tbody tr th:only-of-type {\n",
       "        vertical-align: middle;\n",
       "    }\n",
       "\n",
       "    .dataframe tbody tr th {\n",
       "        vertical-align: top;\n",
       "    }\n",
       "\n",
       "    .dataframe thead th {\n",
       "        text-align: right;\n",
       "    }\n",
       "</style>\n",
       "<table border=\"1\" class=\"dataframe\">\n",
       "  <thead>\n",
       "    <tr style=\"text-align: right;\">\n",
       "      <th></th>\n",
       "      <th>Symbol</th>\n",
       "      <th>Open</th>\n",
       "      <th>High</th>\n",
       "      <th>Low</th>\n",
       "      <th>Close</th>\n",
       "      <th>Volume</th>\n",
       "      <th>DayOfWeek</th>\n",
       "    </tr>\n",
       "    <tr>\n",
       "      <th>Date</th>\n",
       "      <th></th>\n",
       "      <th></th>\n",
       "      <th></th>\n",
       "      <th></th>\n",
       "      <th></th>\n",
       "      <th></th>\n",
       "      <th></th>\n",
       "    </tr>\n",
       "  </thead>\n",
       "  <tbody>\n",
       "    <tr>\n",
       "      <th>2020-03-13 20:00:00</th>\n",
       "      <td>ETHUSD</td>\n",
       "      <td>129.94</td>\n",
       "      <td>131.82</td>\n",
       "      <td>126.87</td>\n",
       "      <td>128.71</td>\n",
       "      <td>1940673.93</td>\n",
       "      <td>Friday</td>\n",
       "    </tr>\n",
       "    <tr>\n",
       "      <th>2020-03-13 19:00:00</th>\n",
       "      <td>ETHUSD</td>\n",
       "      <td>119.51</td>\n",
       "      <td>132.02</td>\n",
       "      <td>117.10</td>\n",
       "      <td>129.94</td>\n",
       "      <td>7579741.09</td>\n",
       "      <td>Friday</td>\n",
       "    </tr>\n",
       "  </tbody>\n",
       "</table>\n",
       "</div>"
      ],
      "text/plain": [
       "                     Symbol    Open    High     Low   Close      Volume  \\\n",
       "Date                                                                      \n",
       "2020-03-13 20:00:00  ETHUSD  129.94  131.82  126.87  128.71  1940673.93   \n",
       "2020-03-13 19:00:00  ETHUSD  119.51  132.02  117.10  129.94  7579741.09   \n",
       "\n",
       "                    DayOfWeek  \n",
       "Date                           \n",
       "2020-03-13 20:00:00    Friday  \n",
       "2020-03-13 19:00:00    Friday  "
      ]
     },
     "execution_count": 18,
     "metadata": {},
     "output_type": "execute_result"
    }
   ],
   "source": [
    "df.head(2)"
   ]
  },
  {
   "cell_type": "code",
   "execution_count": 19,
   "id": "0f1c641e",
   "metadata": {},
   "outputs": [
    {
     "data": {
      "text/html": [
       "<div>\n",
       "<style scoped>\n",
       "    .dataframe tbody tr th:only-of-type {\n",
       "        vertical-align: middle;\n",
       "    }\n",
       "\n",
       "    .dataframe tbody tr th {\n",
       "        vertical-align: top;\n",
       "    }\n",
       "\n",
       "    .dataframe thead th {\n",
       "        text-align: right;\n",
       "    }\n",
       "</style>\n",
       "<table border=\"1\" class=\"dataframe\">\n",
       "  <thead>\n",
       "    <tr style=\"text-align: right;\">\n",
       "      <th></th>\n",
       "      <th>Symbol</th>\n",
       "      <th>Open</th>\n",
       "      <th>High</th>\n",
       "      <th>Low</th>\n",
       "      <th>Close</th>\n",
       "      <th>Volume</th>\n",
       "      <th>DayOfWeek</th>\n",
       "    </tr>\n",
       "    <tr>\n",
       "      <th>Date</th>\n",
       "      <th></th>\n",
       "      <th></th>\n",
       "      <th></th>\n",
       "      <th></th>\n",
       "      <th></th>\n",
       "      <th></th>\n",
       "      <th></th>\n",
       "    </tr>\n",
       "  </thead>\n",
       "  <tbody>\n",
       "    <tr>\n",
       "      <th>2019-12-31 23:00:00</th>\n",
       "      <td>ETHUSD</td>\n",
       "      <td>128.33</td>\n",
       "      <td>128.69</td>\n",
       "      <td>128.14</td>\n",
       "      <td>128.54</td>\n",
       "      <td>440678.91</td>\n",
       "      <td>Tuesday</td>\n",
       "    </tr>\n",
       "    <tr>\n",
       "      <th>2019-12-31 22:00:00</th>\n",
       "      <td>ETHUSD</td>\n",
       "      <td>128.38</td>\n",
       "      <td>128.69</td>\n",
       "      <td>127.95</td>\n",
       "      <td>128.33</td>\n",
       "      <td>554646.02</td>\n",
       "      <td>Tuesday</td>\n",
       "    </tr>\n",
       "    <tr>\n",
       "      <th>2019-12-31 21:00:00</th>\n",
       "      <td>ETHUSD</td>\n",
       "      <td>127.86</td>\n",
       "      <td>128.43</td>\n",
       "      <td>127.72</td>\n",
       "      <td>128.38</td>\n",
       "      <td>350155.69</td>\n",
       "      <td>Tuesday</td>\n",
       "    </tr>\n",
       "  </tbody>\n",
       "</table>\n",
       "</div>"
      ],
      "text/plain": [
       "                     Symbol    Open    High     Low   Close     Volume  \\\n",
       "Date                                                                     \n",
       "2019-12-31 23:00:00  ETHUSD  128.33  128.69  128.14  128.54  440678.91   \n",
       "2019-12-31 22:00:00  ETHUSD  128.38  128.69  127.95  128.33  554646.02   \n",
       "2019-12-31 21:00:00  ETHUSD  127.86  128.43  127.72  128.38  350155.69   \n",
       "\n",
       "                    DayOfWeek  \n",
       "Date                           \n",
       "2019-12-31 23:00:00   Tuesday  \n",
       "2019-12-31 22:00:00   Tuesday  \n",
       "2019-12-31 21:00:00   Tuesday  "
      ]
     },
     "execution_count": 19,
     "metadata": {},
     "output_type": "execute_result"
    }
   ],
   "source": [
    "df.loc['2019'].head(3)"
   ]
  },
  {
   "cell_type": "markdown",
   "id": "21080ef5",
   "metadata": {},
   "source": [
    "##### "
   ]
  },
  {
   "cell_type": "markdown",
   "id": "4c6817f0",
   "metadata": {},
   "source": [
    "##### Let say you wanna see dates from Jan to Feb of 2020"
   ]
  },
  {
   "cell_type": "code",
   "execution_count": 20,
   "id": "5594533a",
   "metadata": {},
   "outputs": [
    {
     "data": {
      "text/html": [
       "<div>\n",
       "<style scoped>\n",
       "    .dataframe tbody tr th:only-of-type {\n",
       "        vertical-align: middle;\n",
       "    }\n",
       "\n",
       "    .dataframe tbody tr th {\n",
       "        vertical-align: top;\n",
       "    }\n",
       "\n",
       "    .dataframe thead th {\n",
       "        text-align: right;\n",
       "    }\n",
       "</style>\n",
       "<table border=\"1\" class=\"dataframe\">\n",
       "  <thead>\n",
       "    <tr style=\"text-align: right;\">\n",
       "      <th></th>\n",
       "      <th>Symbol</th>\n",
       "      <th>Open</th>\n",
       "      <th>High</th>\n",
       "      <th>Low</th>\n",
       "      <th>Close</th>\n",
       "      <th>Volume</th>\n",
       "      <th>DayOfWeek</th>\n",
       "    </tr>\n",
       "    <tr>\n",
       "      <th>Date</th>\n",
       "      <th></th>\n",
       "      <th></th>\n",
       "      <th></th>\n",
       "      <th></th>\n",
       "      <th></th>\n",
       "      <th></th>\n",
       "      <th></th>\n",
       "    </tr>\n",
       "  </thead>\n",
       "  <tbody>\n",
       "    <tr>\n",
       "      <th>2020-02-29 23:00:00</th>\n",
       "      <td>ETHUSD</td>\n",
       "      <td>223.35</td>\n",
       "      <td>223.58</td>\n",
       "      <td>216.83</td>\n",
       "      <td>217.31</td>\n",
       "      <td>1927939.88</td>\n",
       "      <td>Saturday</td>\n",
       "    </tr>\n",
       "    <tr>\n",
       "      <th>2020-02-29 22:00:00</th>\n",
       "      <td>ETHUSD</td>\n",
       "      <td>223.48</td>\n",
       "      <td>223.59</td>\n",
       "      <td>222.14</td>\n",
       "      <td>223.35</td>\n",
       "      <td>535998.57</td>\n",
       "      <td>Saturday</td>\n",
       "    </tr>\n",
       "    <tr>\n",
       "      <th>2020-02-29 21:00:00</th>\n",
       "      <td>ETHUSD</td>\n",
       "      <td>224.63</td>\n",
       "      <td>225.14</td>\n",
       "      <td>222.74</td>\n",
       "      <td>223.48</td>\n",
       "      <td>561158.03</td>\n",
       "      <td>Saturday</td>\n",
       "    </tr>\n",
       "    <tr>\n",
       "      <th>2020-02-29 20:00:00</th>\n",
       "      <td>ETHUSD</td>\n",
       "      <td>225.31</td>\n",
       "      <td>225.33</td>\n",
       "      <td>223.50</td>\n",
       "      <td>224.63</td>\n",
       "      <td>511648.65</td>\n",
       "      <td>Saturday</td>\n",
       "    </tr>\n",
       "    <tr>\n",
       "      <th>2020-02-29 19:00:00</th>\n",
       "      <td>ETHUSD</td>\n",
       "      <td>225.09</td>\n",
       "      <td>225.85</td>\n",
       "      <td>223.87</td>\n",
       "      <td>225.31</td>\n",
       "      <td>1250856.20</td>\n",
       "      <td>Saturday</td>\n",
       "    </tr>\n",
       "    <tr>\n",
       "      <th>...</th>\n",
       "      <td>...</td>\n",
       "      <td>...</td>\n",
       "      <td>...</td>\n",
       "      <td>...</td>\n",
       "      <td>...</td>\n",
       "      <td>...</td>\n",
       "      <td>...</td>\n",
       "    </tr>\n",
       "    <tr>\n",
       "      <th>2020-01-01 04:00:00</th>\n",
       "      <td>ETHUSD</td>\n",
       "      <td>129.57</td>\n",
       "      <td>130.00</td>\n",
       "      <td>129.50</td>\n",
       "      <td>129.56</td>\n",
       "      <td>702786.82</td>\n",
       "      <td>Wednesday</td>\n",
       "    </tr>\n",
       "    <tr>\n",
       "      <th>2020-01-01 03:00:00</th>\n",
       "      <td>ETHUSD</td>\n",
       "      <td>130.37</td>\n",
       "      <td>130.44</td>\n",
       "      <td>129.38</td>\n",
       "      <td>129.57</td>\n",
       "      <td>496704.23</td>\n",
       "      <td>Wednesday</td>\n",
       "    </tr>\n",
       "    <tr>\n",
       "      <th>2020-01-01 02:00:00</th>\n",
       "      <td>ETHUSD</td>\n",
       "      <td>130.14</td>\n",
       "      <td>130.50</td>\n",
       "      <td>129.91</td>\n",
       "      <td>130.37</td>\n",
       "      <td>396315.72</td>\n",
       "      <td>Wednesday</td>\n",
       "    </tr>\n",
       "    <tr>\n",
       "      <th>2020-01-01 01:00:00</th>\n",
       "      <td>ETHUSD</td>\n",
       "      <td>128.34</td>\n",
       "      <td>130.14</td>\n",
       "      <td>128.32</td>\n",
       "      <td>130.14</td>\n",
       "      <td>635419.40</td>\n",
       "      <td>Wednesday</td>\n",
       "    </tr>\n",
       "    <tr>\n",
       "      <th>2020-01-01 00:00:00</th>\n",
       "      <td>ETHUSD</td>\n",
       "      <td>128.54</td>\n",
       "      <td>128.54</td>\n",
       "      <td>128.12</td>\n",
       "      <td>128.34</td>\n",
       "      <td>245119.91</td>\n",
       "      <td>Wednesday</td>\n",
       "    </tr>\n",
       "  </tbody>\n",
       "</table>\n",
       "<p>1440 rows × 7 columns</p>\n",
       "</div>"
      ],
      "text/plain": [
       "                     Symbol    Open    High     Low   Close      Volume  \\\n",
       "Date                                                                      \n",
       "2020-02-29 23:00:00  ETHUSD  223.35  223.58  216.83  217.31  1927939.88   \n",
       "2020-02-29 22:00:00  ETHUSD  223.48  223.59  222.14  223.35   535998.57   \n",
       "2020-02-29 21:00:00  ETHUSD  224.63  225.14  222.74  223.48   561158.03   \n",
       "2020-02-29 20:00:00  ETHUSD  225.31  225.33  223.50  224.63   511648.65   \n",
       "2020-02-29 19:00:00  ETHUSD  225.09  225.85  223.87  225.31  1250856.20   \n",
       "...                     ...     ...     ...     ...     ...         ...   \n",
       "2020-01-01 04:00:00  ETHUSD  129.57  130.00  129.50  129.56   702786.82   \n",
       "2020-01-01 03:00:00  ETHUSD  130.37  130.44  129.38  129.57   496704.23   \n",
       "2020-01-01 02:00:00  ETHUSD  130.14  130.50  129.91  130.37   396315.72   \n",
       "2020-01-01 01:00:00  ETHUSD  128.34  130.14  128.32  130.14   635419.40   \n",
       "2020-01-01 00:00:00  ETHUSD  128.54  128.54  128.12  128.34   245119.91   \n",
       "\n",
       "                     DayOfWeek  \n",
       "Date                            \n",
       "2020-02-29 23:00:00   Saturday  \n",
       "2020-02-29 22:00:00   Saturday  \n",
       "2020-02-29 21:00:00   Saturday  \n",
       "2020-02-29 20:00:00   Saturday  \n",
       "2020-02-29 19:00:00   Saturday  \n",
       "...                        ...  \n",
       "2020-01-01 04:00:00  Wednesday  \n",
       "2020-01-01 03:00:00  Wednesday  \n",
       "2020-01-01 02:00:00  Wednesday  \n",
       "2020-01-01 01:00:00  Wednesday  \n",
       "2020-01-01 00:00:00  Wednesday  \n",
       "\n",
       "[1440 rows x 7 columns]"
      ]
     },
     "execution_count": 20,
     "metadata": {},
     "output_type": "execute_result"
    }
   ],
   "source": [
    "df['2020-01': '2020-02']"
   ]
  },
  {
   "cell_type": "markdown",
   "id": "c1e0eb91",
   "metadata": {},
   "source": [
    "##### "
   ]
  },
  {
   "cell_type": "markdown",
   "id": "5901c49a",
   "metadata": {},
   "source": [
    "#### Getting avg close price of ETH"
   ]
  },
  {
   "cell_type": "code",
   "execution_count": 21,
   "id": "1eb88034",
   "metadata": {},
   "outputs": [
    {
     "data": {
      "text/plain": [
       "195.16559027777814"
      ]
     },
     "execution_count": 21,
     "metadata": {},
     "output_type": "execute_result"
    }
   ],
   "source": [
    "df['2020-01': '2020-02']['Close'].mean()"
   ]
  },
  {
   "cell_type": "markdown",
   "id": "97532014",
   "metadata": {},
   "source": [
    "##### "
   ]
  },
  {
   "cell_type": "markdown",
   "id": "a93d91e3",
   "metadata": {},
   "source": [
    "### Let say you wanna see data on daily basis... "
   ]
  },
  {
   "cell_type": "code",
   "execution_count": 22,
   "id": "9cf5862e",
   "metadata": {},
   "outputs": [
    {
     "data": {
      "text/html": [
       "<div>\n",
       "<style scoped>\n",
       "    .dataframe tbody tr th:only-of-type {\n",
       "        vertical-align: middle;\n",
       "    }\n",
       "\n",
       "    .dataframe tbody tr th {\n",
       "        vertical-align: top;\n",
       "    }\n",
       "\n",
       "    .dataframe thead th {\n",
       "        text-align: right;\n",
       "    }\n",
       "</style>\n",
       "<table border=\"1\" class=\"dataframe\">\n",
       "  <thead>\n",
       "    <tr style=\"text-align: right;\">\n",
       "      <th></th>\n",
       "      <th>Symbol</th>\n",
       "      <th>Open</th>\n",
       "      <th>High</th>\n",
       "      <th>Low</th>\n",
       "      <th>Close</th>\n",
       "      <th>Volume</th>\n",
       "      <th>DayOfWeek</th>\n",
       "    </tr>\n",
       "    <tr>\n",
       "      <th>Date</th>\n",
       "      <th></th>\n",
       "      <th></th>\n",
       "      <th></th>\n",
       "      <th></th>\n",
       "      <th></th>\n",
       "      <th></th>\n",
       "      <th></th>\n",
       "    </tr>\n",
       "  </thead>\n",
       "  <tbody>\n",
       "    <tr>\n",
       "      <th>2020-02-29 23:00:00</th>\n",
       "      <td>ETHUSD</td>\n",
       "      <td>223.35</td>\n",
       "      <td>223.58</td>\n",
       "      <td>216.83</td>\n",
       "      <td>217.31</td>\n",
       "      <td>1927939.88</td>\n",
       "      <td>Saturday</td>\n",
       "    </tr>\n",
       "    <tr>\n",
       "      <th>2020-02-29 22:00:00</th>\n",
       "      <td>ETHUSD</td>\n",
       "      <td>223.48</td>\n",
       "      <td>223.59</td>\n",
       "      <td>222.14</td>\n",
       "      <td>223.35</td>\n",
       "      <td>535998.57</td>\n",
       "      <td>Saturday</td>\n",
       "    </tr>\n",
       "    <tr>\n",
       "      <th>2020-02-29 21:00:00</th>\n",
       "      <td>ETHUSD</td>\n",
       "      <td>224.63</td>\n",
       "      <td>225.14</td>\n",
       "      <td>222.74</td>\n",
       "      <td>223.48</td>\n",
       "      <td>561158.03</td>\n",
       "      <td>Saturday</td>\n",
       "    </tr>\n",
       "    <tr>\n",
       "      <th>2020-02-29 20:00:00</th>\n",
       "      <td>ETHUSD</td>\n",
       "      <td>225.31</td>\n",
       "      <td>225.33</td>\n",
       "      <td>223.50</td>\n",
       "      <td>224.63</td>\n",
       "      <td>511648.65</td>\n",
       "      <td>Saturday</td>\n",
       "    </tr>\n",
       "    <tr>\n",
       "      <th>2020-02-29 19:00:00</th>\n",
       "      <td>ETHUSD</td>\n",
       "      <td>225.09</td>\n",
       "      <td>225.85</td>\n",
       "      <td>223.87</td>\n",
       "      <td>225.31</td>\n",
       "      <td>1250856.20</td>\n",
       "      <td>Saturday</td>\n",
       "    </tr>\n",
       "    <tr>\n",
       "      <th>2020-02-29 18:00:00</th>\n",
       "      <td>ETHUSD</td>\n",
       "      <td>225.53</td>\n",
       "      <td>226.17</td>\n",
       "      <td>224.50</td>\n",
       "      <td>225.09</td>\n",
       "      <td>496543.91</td>\n",
       "      <td>Saturday</td>\n",
       "    </tr>\n",
       "    <tr>\n",
       "      <th>2020-02-29 17:00:00</th>\n",
       "      <td>ETHUSD</td>\n",
       "      <td>222.68</td>\n",
       "      <td>225.53</td>\n",
       "      <td>222.24</td>\n",
       "      <td>225.53</td>\n",
       "      <td>611136.47</td>\n",
       "      <td>Saturday</td>\n",
       "    </tr>\n",
       "    <tr>\n",
       "      <th>2020-02-29 16:00:00</th>\n",
       "      <td>ETHUSD</td>\n",
       "      <td>224.17</td>\n",
       "      <td>225.93</td>\n",
       "      <td>222.36</td>\n",
       "      <td>222.68</td>\n",
       "      <td>694384.75</td>\n",
       "      <td>Saturday</td>\n",
       "    </tr>\n",
       "    <tr>\n",
       "      <th>2020-02-29 15:00:00</th>\n",
       "      <td>ETHUSD</td>\n",
       "      <td>223.35</td>\n",
       "      <td>225.88</td>\n",
       "      <td>221.80</td>\n",
       "      <td>224.17</td>\n",
       "      <td>550893.74</td>\n",
       "      <td>Saturday</td>\n",
       "    </tr>\n",
       "    <tr>\n",
       "      <th>2020-02-29 14:00:00</th>\n",
       "      <td>ETHUSD</td>\n",
       "      <td>224.42</td>\n",
       "      <td>224.42</td>\n",
       "      <td>221.15</td>\n",
       "      <td>223.35</td>\n",
       "      <td>1479928.44</td>\n",
       "      <td>Saturday</td>\n",
       "    </tr>\n",
       "    <tr>\n",
       "      <th>2020-02-29 13:00:00</th>\n",
       "      <td>ETHUSD</td>\n",
       "      <td>225.29</td>\n",
       "      <td>225.37</td>\n",
       "      <td>222.87</td>\n",
       "      <td>224.42</td>\n",
       "      <td>1076646.41</td>\n",
       "      <td>Saturday</td>\n",
       "    </tr>\n",
       "    <tr>\n",
       "      <th>2020-02-29 12:00:00</th>\n",
       "      <td>ETHUSD</td>\n",
       "      <td>226.50</td>\n",
       "      <td>226.50</td>\n",
       "      <td>224.14</td>\n",
       "      <td>225.29</td>\n",
       "      <td>359022.09</td>\n",
       "      <td>Saturday</td>\n",
       "    </tr>\n",
       "    <tr>\n",
       "      <th>2020-02-29 11:00:00</th>\n",
       "      <td>ETHUSD</td>\n",
       "      <td>223.11</td>\n",
       "      <td>226.74</td>\n",
       "      <td>222.19</td>\n",
       "      <td>226.50</td>\n",
       "      <td>684186.89</td>\n",
       "      <td>Saturday</td>\n",
       "    </tr>\n",
       "    <tr>\n",
       "      <th>2020-02-29 10:00:00</th>\n",
       "      <td>ETHUSD</td>\n",
       "      <td>225.86</td>\n",
       "      <td>228.11</td>\n",
       "      <td>222.77</td>\n",
       "      <td>223.11</td>\n",
       "      <td>1053817.02</td>\n",
       "      <td>Saturday</td>\n",
       "    </tr>\n",
       "    <tr>\n",
       "      <th>2020-02-29 09:00:00</th>\n",
       "      <td>ETHUSD</td>\n",
       "      <td>228.78</td>\n",
       "      <td>228.78</td>\n",
       "      <td>225.10</td>\n",
       "      <td>225.86</td>\n",
       "      <td>880482.27</td>\n",
       "      <td>Saturday</td>\n",
       "    </tr>\n",
       "    <tr>\n",
       "      <th>2020-02-29 08:00:00</th>\n",
       "      <td>ETHUSD</td>\n",
       "      <td>229.73</td>\n",
       "      <td>230.38</td>\n",
       "      <td>228.32</td>\n",
       "      <td>228.78</td>\n",
       "      <td>222951.78</td>\n",
       "      <td>Saturday</td>\n",
       "    </tr>\n",
       "    <tr>\n",
       "      <th>2020-02-29 07:00:00</th>\n",
       "      <td>ETHUSD</td>\n",
       "      <td>228.67</td>\n",
       "      <td>230.06</td>\n",
       "      <td>227.84</td>\n",
       "      <td>229.73</td>\n",
       "      <td>603444.28</td>\n",
       "      <td>Saturday</td>\n",
       "    </tr>\n",
       "    <tr>\n",
       "      <th>2020-02-29 06:00:00</th>\n",
       "      <td>ETHUSD</td>\n",
       "      <td>232.13</td>\n",
       "      <td>233.00</td>\n",
       "      <td>228.03</td>\n",
       "      <td>228.67</td>\n",
       "      <td>1573935.25</td>\n",
       "      <td>Saturday</td>\n",
       "    </tr>\n",
       "    <tr>\n",
       "      <th>2020-02-29 05:00:00</th>\n",
       "      <td>ETHUSD</td>\n",
       "      <td>232.09</td>\n",
       "      <td>233.32</td>\n",
       "      <td>231.16</td>\n",
       "      <td>232.13</td>\n",
       "      <td>855793.43</td>\n",
       "      <td>Saturday</td>\n",
       "    </tr>\n",
       "    <tr>\n",
       "      <th>2020-02-29 04:00:00</th>\n",
       "      <td>ETHUSD</td>\n",
       "      <td>230.41</td>\n",
       "      <td>233.00</td>\n",
       "      <td>230.32</td>\n",
       "      <td>232.09</td>\n",
       "      <td>754164.18</td>\n",
       "      <td>Saturday</td>\n",
       "    </tr>\n",
       "    <tr>\n",
       "      <th>2020-02-29 03:00:00</th>\n",
       "      <td>ETHUSD</td>\n",
       "      <td>229.23</td>\n",
       "      <td>230.83</td>\n",
       "      <td>228.17</td>\n",
       "      <td>230.41</td>\n",
       "      <td>1173484.59</td>\n",
       "      <td>Saturday</td>\n",
       "    </tr>\n",
       "    <tr>\n",
       "      <th>2020-02-29 02:00:00</th>\n",
       "      <td>ETHUSD</td>\n",
       "      <td>227.45</td>\n",
       "      <td>230.33</td>\n",
       "      <td>227.19</td>\n",
       "      <td>229.23</td>\n",
       "      <td>1120127.13</td>\n",
       "      <td>Saturday</td>\n",
       "    </tr>\n",
       "    <tr>\n",
       "      <th>2020-02-29 01:00:00</th>\n",
       "      <td>ETHUSD</td>\n",
       "      <td>229.81</td>\n",
       "      <td>231.00</td>\n",
       "      <td>227.38</td>\n",
       "      <td>227.45</td>\n",
       "      <td>696316.26</td>\n",
       "      <td>Saturday</td>\n",
       "    </tr>\n",
       "    <tr>\n",
       "      <th>2020-02-29 00:00:00</th>\n",
       "      <td>ETHUSD</td>\n",
       "      <td>227.37</td>\n",
       "      <td>232.20</td>\n",
       "      <td>227.04</td>\n",
       "      <td>229.81</td>\n",
       "      <td>1435038.82</td>\n",
       "      <td>Saturday</td>\n",
       "    </tr>\n",
       "  </tbody>\n",
       "</table>\n",
       "</div>"
      ],
      "text/plain": [
       "                     Symbol    Open    High     Low   Close      Volume  \\\n",
       "Date                                                                      \n",
       "2020-02-29 23:00:00  ETHUSD  223.35  223.58  216.83  217.31  1927939.88   \n",
       "2020-02-29 22:00:00  ETHUSD  223.48  223.59  222.14  223.35   535998.57   \n",
       "2020-02-29 21:00:00  ETHUSD  224.63  225.14  222.74  223.48   561158.03   \n",
       "2020-02-29 20:00:00  ETHUSD  225.31  225.33  223.50  224.63   511648.65   \n",
       "2020-02-29 19:00:00  ETHUSD  225.09  225.85  223.87  225.31  1250856.20   \n",
       "2020-02-29 18:00:00  ETHUSD  225.53  226.17  224.50  225.09   496543.91   \n",
       "2020-02-29 17:00:00  ETHUSD  222.68  225.53  222.24  225.53   611136.47   \n",
       "2020-02-29 16:00:00  ETHUSD  224.17  225.93  222.36  222.68   694384.75   \n",
       "2020-02-29 15:00:00  ETHUSD  223.35  225.88  221.80  224.17   550893.74   \n",
       "2020-02-29 14:00:00  ETHUSD  224.42  224.42  221.15  223.35  1479928.44   \n",
       "2020-02-29 13:00:00  ETHUSD  225.29  225.37  222.87  224.42  1076646.41   \n",
       "2020-02-29 12:00:00  ETHUSD  226.50  226.50  224.14  225.29   359022.09   \n",
       "2020-02-29 11:00:00  ETHUSD  223.11  226.74  222.19  226.50   684186.89   \n",
       "2020-02-29 10:00:00  ETHUSD  225.86  228.11  222.77  223.11  1053817.02   \n",
       "2020-02-29 09:00:00  ETHUSD  228.78  228.78  225.10  225.86   880482.27   \n",
       "2020-02-29 08:00:00  ETHUSD  229.73  230.38  228.32  228.78   222951.78   \n",
       "2020-02-29 07:00:00  ETHUSD  228.67  230.06  227.84  229.73   603444.28   \n",
       "2020-02-29 06:00:00  ETHUSD  232.13  233.00  228.03  228.67  1573935.25   \n",
       "2020-02-29 05:00:00  ETHUSD  232.09  233.32  231.16  232.13   855793.43   \n",
       "2020-02-29 04:00:00  ETHUSD  230.41  233.00  230.32  232.09   754164.18   \n",
       "2020-02-29 03:00:00  ETHUSD  229.23  230.83  228.17  230.41  1173484.59   \n",
       "2020-02-29 02:00:00  ETHUSD  227.45  230.33  227.19  229.23  1120127.13   \n",
       "2020-02-29 01:00:00  ETHUSD  229.81  231.00  227.38  227.45   696316.26   \n",
       "2020-02-29 00:00:00  ETHUSD  227.37  232.20  227.04  229.81  1435038.82   \n",
       "\n",
       "                    DayOfWeek  \n",
       "Date                           \n",
       "2020-02-29 23:00:00  Saturday  \n",
       "2020-02-29 22:00:00  Saturday  \n",
       "2020-02-29 21:00:00  Saturday  \n",
       "2020-02-29 20:00:00  Saturday  \n",
       "2020-02-29 19:00:00  Saturday  \n",
       "2020-02-29 18:00:00  Saturday  \n",
       "2020-02-29 17:00:00  Saturday  \n",
       "2020-02-29 16:00:00  Saturday  \n",
       "2020-02-29 15:00:00  Saturday  \n",
       "2020-02-29 14:00:00  Saturday  \n",
       "2020-02-29 13:00:00  Saturday  \n",
       "2020-02-29 12:00:00  Saturday  \n",
       "2020-02-29 11:00:00  Saturday  \n",
       "2020-02-29 10:00:00  Saturday  \n",
       "2020-02-29 09:00:00  Saturday  \n",
       "2020-02-29 08:00:00  Saturday  \n",
       "2020-02-29 07:00:00  Saturday  \n",
       "2020-02-29 06:00:00  Saturday  \n",
       "2020-02-29 05:00:00  Saturday  \n",
       "2020-02-29 04:00:00  Saturday  \n",
       "2020-02-29 03:00:00  Saturday  \n",
       "2020-02-29 02:00:00  Saturday  \n",
       "2020-02-29 01:00:00  Saturday  \n",
       "2020-02-29 00:00:00  Saturday  "
      ]
     },
     "execution_count": 22,
     "metadata": {},
     "output_type": "execute_result"
    }
   ],
   "source": [
    "df['2020-01': '2020-02'].head(24)                   # Showing 1 day data"
   ]
  },
  {
   "cell_type": "code",
   "execution_count": 23,
   "id": "cc7fc0d0",
   "metadata": {},
   "outputs": [
    {
     "data": {
      "text/plain": [
       "132.68"
      ]
     },
     "execution_count": 23,
     "metadata": {},
     "output_type": "execute_result"
    }
   ],
   "source": [
    "df.loc['2020-01-01', 'High'].max()"
   ]
  },
  {
   "cell_type": "markdown",
   "id": "f910d0b6",
   "metadata": {},
   "source": [
    "##### We will use concept of RESAMPLING now..."
   ]
  },
  {
   "cell_type": "code",
   "execution_count": 24,
   "id": "2cf1e5e5",
   "metadata": {},
   "outputs": [
    {
     "data": {
      "text/plain": [
       "Date\n",
       "2017-07-01    279.99\n",
       "2017-07-02    293.73\n",
       "2017-07-03    285.00\n",
       "2017-07-04    282.83\n",
       "2017-07-05    274.97\n",
       "               ...  \n",
       "2020-03-09    208.65\n",
       "2020-03-10    206.28\n",
       "2020-03-11    202.98\n",
       "2020-03-12    195.64\n",
       "2020-03-13    148.00\n",
       "Freq: D, Name: High, Length: 987, dtype: float64"
      ]
     },
     "execution_count": 24,
     "metadata": {},
     "output_type": "execute_result"
    }
   ],
   "source": [
    "df['High'].resample('D').max()            # These resampling codes like 'D' can be found on pandas site\n",
    "\n",
    "# Now we have high values of each day"
   ]
  },
  {
   "cell_type": "code",
   "execution_count": 25,
   "id": "cbab275e",
   "metadata": {},
   "outputs": [
    {
     "data": {
      "text/plain": [
       "132.68"
      ]
     },
     "execution_count": 25,
     "metadata": {},
     "output_type": "execute_result"
    }
   ],
   "source": [
    "highs = df['High'].resample('D').max() \n",
    "\n",
    "highs['2020-01-01']"
   ]
  },
  {
   "cell_type": "markdown",
   "id": "4615d583",
   "metadata": {},
   "source": [
    "##### "
   ]
  },
  {
   "cell_type": "code",
   "execution_count": 26,
   "id": "91c70fe7",
   "metadata": {},
   "outputs": [],
   "source": [
    "%matplotlib inline"
   ]
  },
  {
   "cell_type": "code",
   "execution_count": 27,
   "id": "f86c3a26",
   "metadata": {},
   "outputs": [
    {
     "data": {
      "text/plain": [
       "<AxesSubplot:xlabel='Date'>"
      ]
     },
     "execution_count": 27,
     "metadata": {},
     "output_type": "execute_result"
    },
    {
     "data": {
      "image/png": "[encoded data removed]",
      "text/plain": [
       "<Figure size 432x288 with 1 Axes>"
      ]
     },
     "metadata": {
      "needs_background": "light"
     },
     "output_type": "display_data"
    }
   ],
   "source": [
    "highs.plot()"
   ]
  },
  {
   "cell_type": "markdown",
   "id": "b1694738",
   "metadata": {},
   "source": [
    "##### "
   ]
  },
  {
   "cell_type": "markdown",
   "id": "26b9312e",
   "metadata": {},
   "source": [
    "### Resampling multiple columns"
   ]
  },
  {
   "cell_type": "code",
   "execution_count": 29,
   "id": "8d4ec2e3",
   "metadata": {},
   "outputs": [
    {
     "data": {
      "text/html": [
       "<div>\n",
       "<style scoped>\n",
       "    .dataframe tbody tr th:only-of-type {\n",
       "        vertical-align: middle;\n",
       "    }\n",
       "\n",
       "    .dataframe tbody tr th {\n",
       "        vertical-align: top;\n",
       "    }\n",
       "\n",
       "    .dataframe thead th {\n",
       "        text-align: right;\n",
       "    }\n",
       "</style>\n",
       "<table border=\"1\" class=\"dataframe\">\n",
       "  <thead>\n",
       "    <tr style=\"text-align: right;\">\n",
       "      <th></th>\n",
       "      <th>High</th>\n",
       "      <th>Close</th>\n",
       "      <th>Low</th>\n",
       "      <th>Volume</th>\n",
       "    </tr>\n",
       "    <tr>\n",
       "      <th>Date</th>\n",
       "      <th></th>\n",
       "      <th></th>\n",
       "      <th></th>\n",
       "      <th></th>\n",
       "    </tr>\n",
       "  </thead>\n",
       "  <tbody>\n",
       "    <tr>\n",
       "      <th>2017-07-02</th>\n",
       "      <td>293.73</td>\n",
       "      <td>268.202162</td>\n",
       "      <td>253.23</td>\n",
       "      <td>8.084631e+07</td>\n",
       "    </tr>\n",
       "    <tr>\n",
       "      <th>2017-07-09</th>\n",
       "      <td>285.00</td>\n",
       "      <td>261.062083</td>\n",
       "      <td>231.25</td>\n",
       "      <td>2.246746e+08</td>\n",
       "    </tr>\n",
       "    <tr>\n",
       "      <th>2017-07-16</th>\n",
       "      <td>240.33</td>\n",
       "      <td>195.698393</td>\n",
       "      <td>130.26</td>\n",
       "      <td>5.017750e+08</td>\n",
       "    </tr>\n",
       "    <tr>\n",
       "      <th>2017-07-23</th>\n",
       "      <td>249.40</td>\n",
       "      <td>212.783750</td>\n",
       "      <td>153.25</td>\n",
       "      <td>7.221637e+08</td>\n",
       "    </tr>\n",
       "    <tr>\n",
       "      <th>2017-07-30</th>\n",
       "      <td>229.99</td>\n",
       "      <td>203.309524</td>\n",
       "      <td>178.03</td>\n",
       "      <td>2.657305e+08</td>\n",
       "    </tr>\n",
       "    <tr>\n",
       "      <th>...</th>\n",
       "      <td>...</td>\n",
       "      <td>...</td>\n",
       "      <td>...</td>\n",
       "      <td>...</td>\n",
       "    </tr>\n",
       "    <tr>\n",
       "      <th>2020-02-16</th>\n",
       "      <td>290.00</td>\n",
       "      <td>255.198452</td>\n",
       "      <td>216.31</td>\n",
       "      <td>3.912867e+08</td>\n",
       "    </tr>\n",
       "    <tr>\n",
       "      <th>2020-02-23</th>\n",
       "      <td>287.13</td>\n",
       "      <td>265.321905</td>\n",
       "      <td>242.36</td>\n",
       "      <td>3.067838e+08</td>\n",
       "    </tr>\n",
       "    <tr>\n",
       "      <th>2020-03-01</th>\n",
       "      <td>278.13</td>\n",
       "      <td>236.373988</td>\n",
       "      <td>209.26</td>\n",
       "      <td>3.693920e+08</td>\n",
       "    </tr>\n",
       "    <tr>\n",
       "      <th>2020-03-08</th>\n",
       "      <td>253.01</td>\n",
       "      <td>229.817619</td>\n",
       "      <td>196.00</td>\n",
       "      <td>2.736569e+08</td>\n",
       "    </tr>\n",
       "    <tr>\n",
       "      <th>2020-03-15</th>\n",
       "      <td>208.65</td>\n",
       "      <td>176.332821</td>\n",
       "      <td>90.00</td>\n",
       "      <td>4.983998e+08</td>\n",
       "    </tr>\n",
       "  </tbody>\n",
       "</table>\n",
       "<p>142 rows × 4 columns</p>\n",
       "</div>"
      ],
      "text/plain": [
       "              High       Close     Low        Volume\n",
       "Date                                                \n",
       "2017-07-02  293.73  268.202162  253.23  8.084631e+07\n",
       "2017-07-09  285.00  261.062083  231.25  2.246746e+08\n",
       "2017-07-16  240.33  195.698393  130.26  5.017750e+08\n",
       "2017-07-23  249.40  212.783750  153.25  7.221637e+08\n",
       "2017-07-30  229.99  203.309524  178.03  2.657305e+08\n",
       "...            ...         ...     ...           ...\n",
       "2020-02-16  290.00  255.198452  216.31  3.912867e+08\n",
       "2020-02-23  287.13  265.321905  242.36  3.067838e+08\n",
       "2020-03-01  278.13  236.373988  209.26  3.693920e+08\n",
       "2020-03-08  253.01  229.817619  196.00  2.736569e+08\n",
       "2020-03-15  208.65  176.332821   90.00  4.983998e+08\n",
       "\n",
       "[142 rows x 4 columns]"
      ]
     },
     "execution_count": 29,
     "metadata": {},
     "output_type": "execute_result"
    }
   ],
   "source": [
    "# In this df we need to use multiple aggregation methods as well..\n",
    "\n",
    "df.resample('W').agg({'High': 'max' , 'Close': 'mean', 'Low': 'min', 'Volume':'sum'})"
   ]
  },
  {
   "cell_type": "code",
   "execution_count": 32,
   "id": "7ae1b1b4",
   "metadata": {},
   "outputs": [
    {
     "data": {
      "text/plain": [
       "<AxesSubplot:xlabel='Date'>"
      ]
     },
     "execution_count": 32,
     "metadata": {},
     "output_type": "execute_result"
    },
    {
     "data": {
      "image/png": "[encoded data removed]",
      "text/plain": [
       "<Figure size 432x288 with 1 Axes>"
      ]
     },
     "metadata": {
      "needs_background": "light"
     },
     "output_type": "display_data"
    }
   ],
   "source": [
    "res = df.resample('W').agg({'High': 'max' , 'Close': 'mean', 'Low': 'min'})\n",
    "\n",
    "res.plot()"
   ]
  },
  {
   "cell_type": "code",
   "execution_count": null,
   "id": "587fd969",
   "metadata": {},
   "outputs": [],
   "source": []
  }
 ],
 "metadata": {
  "kernelspec": {
   "display_name": "Python 3 (ipykernel)",
   "language": "python",
   "name": "python3"
  },
  "language_info": {
   "codemirror_mode": {
    "name": "ipython",
    "version": 3
   },
   "file_extension": ".py",
   "mimetype": "text/x-python",
   "name": "python",
   "nbconvert_exporter": "python",
   "pygments_lexer": "ipython3",
   "version": "3.9.12"
  }
 },
 "nbformat": 4,
 "nbformat_minor": 5
}
