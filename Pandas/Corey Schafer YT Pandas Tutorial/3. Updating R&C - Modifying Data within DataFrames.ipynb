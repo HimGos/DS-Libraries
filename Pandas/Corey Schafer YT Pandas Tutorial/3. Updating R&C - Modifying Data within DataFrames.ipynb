{
 "cells": [
  {
   "cell_type": "code",
   "execution_count": 1,
   "id": "02b027d0",
   "metadata": {},
   "outputs": [],
   "source": [
    "import pandas as pd"
   ]
  },
  {
   "cell_type": "code",
   "execution_count": 2,
   "id": "663af320",
   "metadata": {},
   "outputs": [],
   "source": [
    "people = {\n",
    "    'first': ['Corey', 'Jane', 'John'],\n",
    "    'last': ['Schafer', 'Doe', 'Doe'],\n",
    "    'email': ['Coreyschafer@gmail.com', 'JaneDoe@email.com', 'JohnDoe@email.com']\n",
    "}"
   ]
  },
  {
   "cell_type": "code",
   "execution_count": 3,
   "id": "8085776b",
   "metadata": {},
   "outputs": [
    {
     "data": {
      "text/html": [
       "<div>\n",
       "<style scoped>\n",
       "    .dataframe tbody tr th:only-of-type {\n",
       "        vertical-align: middle;\n",
       "    }\n",
       "\n",
       "    .dataframe tbody tr th {\n",
       "        vertical-align: top;\n",
       "    }\n",
       "\n",
       "    .dataframe thead th {\n",
       "        text-align: right;\n",
       "    }\n",
       "</style>\n",
       "<table border=\"1\" class=\"dataframe\">\n",
       "  <thead>\n",
       "    <tr style=\"text-align: right;\">\n",
       "      <th></th>\n",
       "      <th>first</th>\n",
       "      <th>last</th>\n",
       "      <th>email</th>\n",
       "    </tr>\n",
       "  </thead>\n",
       "  <tbody>\n",
       "    <tr>\n",
       "      <th>0</th>\n",
       "      <td>Corey</td>\n",
       "      <td>Schafer</td>\n",
       "      <td>Coreyschafer@gmail.com</td>\n",
       "    </tr>\n",
       "    <tr>\n",
       "      <th>1</th>\n",
       "      <td>Jane</td>\n",
       "      <td>Doe</td>\n",
       "      <td>JaneDoe@email.com</td>\n",
       "    </tr>\n",
       "    <tr>\n",
       "      <th>2</th>\n",
       "      <td>John</td>\n",
       "      <td>Doe</td>\n",
       "      <td>JohnDoe@email.com</td>\n",
       "    </tr>\n",
       "  </tbody>\n",
       "</table>\n",
       "</div>"
      ],
      "text/plain": [
       "   first     last                   email\n",
       "0  Corey  Schafer  Coreyschafer@gmail.com\n",
       "1   Jane      Doe       JaneDoe@email.com\n",
       "2   John      Doe       JohnDoe@email.com"
      ]
     },
     "execution_count": 3,
     "metadata": {},
     "output_type": "execute_result"
    }
   ],
   "source": [
    "ex = pd.DataFrame(people)\n",
    "\n",
    "ex"
   ]
  },
  {
   "cell_type": "markdown",
   "id": "93c19fde",
   "metadata": {},
   "source": [
    "# "
   ]
  },
  {
   "cell_type": "markdown",
   "id": "e7c41992",
   "metadata": {},
   "source": [
    "#  Updating Columns"
   ]
  },
  {
   "cell_type": "code",
   "execution_count": 5,
   "id": "b32bdaf4",
   "metadata": {},
   "outputs": [
    {
     "data": {
      "text/plain": [
       "Index(['first', 'last', 'email'], dtype='object')"
      ]
     },
     "execution_count": 5,
     "metadata": {},
     "output_type": "execute_result"
    }
   ],
   "source": [
    "ex.columns                           # Checking columns"
   ]
  },
  {
   "cell_type": "code",
   "execution_count": 8,
   "id": "2104171d",
   "metadata": {},
   "outputs": [],
   "source": [
    "# Let say I wanna make it firstname instead of first\n",
    "\n",
    "ex.columns = ['first_name', 'last_name', 'email']          # This practice is used for changing names of all columns"
   ]
  },
  {
   "cell_type": "code",
   "execution_count": 10,
   "id": "b82bc6ec",
   "metadata": {},
   "outputs": [
    {
     "data": {
      "text/html": [
       "<div>\n",
       "<style scoped>\n",
       "    .dataframe tbody tr th:only-of-type {\n",
       "        vertical-align: middle;\n",
       "    }\n",
       "\n",
       "    .dataframe tbody tr th {\n",
       "        vertical-align: top;\n",
       "    }\n",
       "\n",
       "    .dataframe thead th {\n",
       "        text-align: right;\n",
       "    }\n",
       "</style>\n",
       "<table border=\"1\" class=\"dataframe\">\n",
       "  <thead>\n",
       "    <tr style=\"text-align: right;\">\n",
       "      <th></th>\n",
       "      <th>first_name</th>\n",
       "      <th>last_name</th>\n",
       "      <th>email</th>\n",
       "    </tr>\n",
       "  </thead>\n",
       "  <tbody>\n",
       "    <tr>\n",
       "      <th>0</th>\n",
       "      <td>Corey</td>\n",
       "      <td>Schafer</td>\n",
       "      <td>Coreyschafer@gmail.com</td>\n",
       "    </tr>\n",
       "    <tr>\n",
       "      <th>1</th>\n",
       "      <td>Jane</td>\n",
       "      <td>Doe</td>\n",
       "      <td>JaneDoe@email.com</td>\n",
       "    </tr>\n",
       "    <tr>\n",
       "      <th>2</th>\n",
       "      <td>John</td>\n",
       "      <td>Doe</td>\n",
       "      <td>JohnDoe@email.com</td>\n",
       "    </tr>\n",
       "  </tbody>\n",
       "</table>\n",
       "</div>"
      ],
      "text/plain": [
       "  first_name last_name                   email\n",
       "0      Corey   Schafer  Coreyschafer@gmail.com\n",
       "1       Jane       Doe       JaneDoe@email.com\n",
       "2       John       Doe       JohnDoe@email.com"
      ]
     },
     "execution_count": 10,
     "metadata": {},
     "output_type": "execute_result"
    }
   ],
   "source": [
    "ex"
   ]
  },
  {
   "cell_type": "markdown",
   "id": "1ec9f85d",
   "metadata": {},
   "source": [
    "#### To uppercase all the column names"
   ]
  },
  {
   "cell_type": "code",
   "execution_count": 11,
   "id": "be52b95c",
   "metadata": {},
   "outputs": [
    {
     "data": {
      "text/html": [
       "<div>\n",
       "<style scoped>\n",
       "    .dataframe tbody tr th:only-of-type {\n",
       "        vertical-align: middle;\n",
       "    }\n",
       "\n",
       "    .dataframe tbody tr th {\n",
       "        vertical-align: top;\n",
       "    }\n",
       "\n",
       "    .dataframe thead th {\n",
       "        text-align: right;\n",
       "    }\n",
       "</style>\n",
       "<table border=\"1\" class=\"dataframe\">\n",
       "  <thead>\n",
       "    <tr style=\"text-align: right;\">\n",
       "      <th></th>\n",
       "      <th>FIRST_NAME</th>\n",
       "      <th>LAST_NAME</th>\n",
       "      <th>EMAIL</th>\n",
       "    </tr>\n",
       "  </thead>\n",
       "  <tbody>\n",
       "    <tr>\n",
       "      <th>0</th>\n",
       "      <td>Corey</td>\n",
       "      <td>Schafer</td>\n",
       "      <td>Coreyschafer@gmail.com</td>\n",
       "    </tr>\n",
       "    <tr>\n",
       "      <th>1</th>\n",
       "      <td>Jane</td>\n",
       "      <td>Doe</td>\n",
       "      <td>JaneDoe@email.com</td>\n",
       "    </tr>\n",
       "    <tr>\n",
       "      <th>2</th>\n",
       "      <td>John</td>\n",
       "      <td>Doe</td>\n",
       "      <td>JohnDoe@email.com</td>\n",
       "    </tr>\n",
       "  </tbody>\n",
       "</table>\n",
       "</div>"
      ],
      "text/plain": [
       "  FIRST_NAME LAST_NAME                   EMAIL\n",
       "0      Corey   Schafer  Coreyschafer@gmail.com\n",
       "1       Jane       Doe       JaneDoe@email.com\n",
       "2       John       Doe       JohnDoe@email.com"
      ]
     },
     "execution_count": 11,
     "metadata": {},
     "output_type": "execute_result"
    }
   ],
   "source": [
    "ex.columns = [x.upper() for x in ex.columns]\n",
    "ex"
   ]
  },
  {
   "cell_type": "markdown",
   "id": "c026cf8c",
   "metadata": {},
   "source": [
    "####  To replace spaces with _ in column names"
   ]
  },
  {
   "cell_type": "code",
   "execution_count": 12,
   "id": "e66c9081",
   "metadata": {},
   "outputs": [
    {
     "data": {
      "text/html": [
       "<div>\n",
       "<style scoped>\n",
       "    .dataframe tbody tr th:only-of-type {\n",
       "        vertical-align: middle;\n",
       "    }\n",
       "\n",
       "    .dataframe tbody tr th {\n",
       "        vertical-align: top;\n",
       "    }\n",
       "\n",
       "    .dataframe thead th {\n",
       "        text-align: right;\n",
       "    }\n",
       "</style>\n",
       "<table border=\"1\" class=\"dataframe\">\n",
       "  <thead>\n",
       "    <tr style=\"text-align: right;\">\n",
       "      <th></th>\n",
       "      <th>FIRST_NAME</th>\n",
       "      <th>LAST_NAME</th>\n",
       "      <th>EMAIL</th>\n",
       "    </tr>\n",
       "  </thead>\n",
       "  <tbody>\n",
       "    <tr>\n",
       "      <th>0</th>\n",
       "      <td>Corey</td>\n",
       "      <td>Schafer</td>\n",
       "      <td>Coreyschafer@gmail.com</td>\n",
       "    </tr>\n",
       "    <tr>\n",
       "      <th>1</th>\n",
       "      <td>Jane</td>\n",
       "      <td>Doe</td>\n",
       "      <td>JaneDoe@email.com</td>\n",
       "    </tr>\n",
       "    <tr>\n",
       "      <th>2</th>\n",
       "      <td>John</td>\n",
       "      <td>Doe</td>\n",
       "      <td>JohnDoe@email.com</td>\n",
       "    </tr>\n",
       "  </tbody>\n",
       "</table>\n",
       "</div>"
      ],
      "text/plain": [
       "  FIRST_NAME LAST_NAME                   EMAIL\n",
       "0      Corey   Schafer  Coreyschafer@gmail.com\n",
       "1       Jane       Doe       JaneDoe@email.com\n",
       "2       John       Doe       JohnDoe@email.com"
      ]
     },
     "execution_count": 12,
     "metadata": {},
     "output_type": "execute_result"
    }
   ],
   "source": [
    "ex.columns = ex.columns.str.replace(' ','_')\n",
    "ex"
   ]
  },
  {
   "cell_type": "markdown",
   "id": "a5da0159",
   "metadata": {},
   "source": [
    "#### To lowercase all the column names"
   ]
  },
  {
   "cell_type": "code",
   "execution_count": 13,
   "id": "4c500630",
   "metadata": {},
   "outputs": [
    {
     "data": {
      "text/html": [
       "<div>\n",
       "<style scoped>\n",
       "    .dataframe tbody tr th:only-of-type {\n",
       "        vertical-align: middle;\n",
       "    }\n",
       "\n",
       "    .dataframe tbody tr th {\n",
       "        vertical-align: top;\n",
       "    }\n",
       "\n",
       "    .dataframe thead th {\n",
       "        text-align: right;\n",
       "    }\n",
       "</style>\n",
       "<table border=\"1\" class=\"dataframe\">\n",
       "  <thead>\n",
       "    <tr style=\"text-align: right;\">\n",
       "      <th></th>\n",
       "      <th>first_name</th>\n",
       "      <th>last_name</th>\n",
       "      <th>email</th>\n",
       "    </tr>\n",
       "  </thead>\n",
       "  <tbody>\n",
       "    <tr>\n",
       "      <th>0</th>\n",
       "      <td>Corey</td>\n",
       "      <td>Schafer</td>\n",
       "      <td>Coreyschafer@gmail.com</td>\n",
       "    </tr>\n",
       "    <tr>\n",
       "      <th>1</th>\n",
       "      <td>Jane</td>\n",
       "      <td>Doe</td>\n",
       "      <td>JaneDoe@email.com</td>\n",
       "    </tr>\n",
       "    <tr>\n",
       "      <th>2</th>\n",
       "      <td>John</td>\n",
       "      <td>Doe</td>\n",
       "      <td>JohnDoe@email.com</td>\n",
       "    </tr>\n",
       "  </tbody>\n",
       "</table>\n",
       "</div>"
      ],
      "text/plain": [
       "  first_name last_name                   email\n",
       "0      Corey   Schafer  Coreyschafer@gmail.com\n",
       "1       Jane       Doe       JaneDoe@email.com\n",
       "2       John       Doe       JohnDoe@email.com"
      ]
     },
     "execution_count": 13,
     "metadata": {},
     "output_type": "execute_result"
    }
   ],
   "source": [
    "ex.columns = [x.lower() for x in ex.columns]\n",
    "ex"
   ]
  },
  {
   "cell_type": "markdown",
   "id": "470e8bb6",
   "metadata": {},
   "source": [
    "#### To make effect to only ONE column"
   ]
  },
  {
   "cell_type": "code",
   "execution_count": 14,
   "id": "2aa80fc4",
   "metadata": {},
   "outputs": [
    {
     "data": {
      "text/html": [
       "<div>\n",
       "<style scoped>\n",
       "    .dataframe tbody tr th:only-of-type {\n",
       "        vertical-align: middle;\n",
       "    }\n",
       "\n",
       "    .dataframe tbody tr th {\n",
       "        vertical-align: top;\n",
       "    }\n",
       "\n",
       "    .dataframe thead th {\n",
       "        text-align: right;\n",
       "    }\n",
       "</style>\n",
       "<table border=\"1\" class=\"dataframe\">\n",
       "  <thead>\n",
       "    <tr style=\"text-align: right;\">\n",
       "      <th></th>\n",
       "      <th>first</th>\n",
       "      <th>last</th>\n",
       "      <th>email</th>\n",
       "    </tr>\n",
       "  </thead>\n",
       "  <tbody>\n",
       "    <tr>\n",
       "      <th>0</th>\n",
       "      <td>Corey</td>\n",
       "      <td>Schafer</td>\n",
       "      <td>Coreyschafer@gmail.com</td>\n",
       "    </tr>\n",
       "    <tr>\n",
       "      <th>1</th>\n",
       "      <td>Jane</td>\n",
       "      <td>Doe</td>\n",
       "      <td>JaneDoe@email.com</td>\n",
       "    </tr>\n",
       "    <tr>\n",
       "      <th>2</th>\n",
       "      <td>John</td>\n",
       "      <td>Doe</td>\n",
       "      <td>JohnDoe@email.com</td>\n",
       "    </tr>\n",
       "  </tbody>\n",
       "</table>\n",
       "</div>"
      ],
      "text/plain": [
       "   first     last                   email\n",
       "0  Corey  Schafer  Coreyschafer@gmail.com\n",
       "1   Jane      Doe       JaneDoe@email.com\n",
       "2   John      Doe       JohnDoe@email.com"
      ]
     },
     "execution_count": 14,
     "metadata": {},
     "output_type": "execute_result"
    }
   ],
   "source": [
    "# We need to use dictionary here\n",
    "\n",
    "ex.rename(columns={'first_name': 'first', 'last_name':'last'}, inplace=True)\n",
    "ex"
   ]
  },
  {
   "cell_type": "markdown",
   "id": "794c3834",
   "metadata": {},
   "source": [
    "# "
   ]
  },
  {
   "cell_type": "markdown",
   "id": "67d809b9",
   "metadata": {},
   "source": [
    "# ---------      Updating Rows        --------"
   ]
  },
  {
   "cell_type": "markdown",
   "id": "7e511872",
   "metadata": {},
   "source": [
    "#### If I wanna change the lastname of John in our current DF"
   ]
  },
  {
   "cell_type": "code",
   "execution_count": 16,
   "id": "6e19950c",
   "metadata": {},
   "outputs": [
    {
     "data": {
      "text/html": [
       "<div>\n",
       "<style scoped>\n",
       "    .dataframe tbody tr th:only-of-type {\n",
       "        vertical-align: middle;\n",
       "    }\n",
       "\n",
       "    .dataframe tbody tr th {\n",
       "        vertical-align: top;\n",
       "    }\n",
       "\n",
       "    .dataframe thead th {\n",
       "        text-align: right;\n",
       "    }\n",
       "</style>\n",
       "<table border=\"1\" class=\"dataframe\">\n",
       "  <thead>\n",
       "    <tr style=\"text-align: right;\">\n",
       "      <th></th>\n",
       "      <th>first</th>\n",
       "      <th>last</th>\n",
       "      <th>email</th>\n",
       "    </tr>\n",
       "  </thead>\n",
       "  <tbody>\n",
       "    <tr>\n",
       "      <th>0</th>\n",
       "      <td>Corey</td>\n",
       "      <td>Schafer</td>\n",
       "      <td>Coreyschafer@gmail.com</td>\n",
       "    </tr>\n",
       "    <tr>\n",
       "      <th>1</th>\n",
       "      <td>Jane</td>\n",
       "      <td>Doe</td>\n",
       "      <td>JaneDoe@email.com</td>\n",
       "    </tr>\n",
       "    <tr>\n",
       "      <th>2</th>\n",
       "      <td>John</td>\n",
       "      <td>Smith</td>\n",
       "      <td>JohnSmith@gmail.com</td>\n",
       "    </tr>\n",
       "  </tbody>\n",
       "</table>\n",
       "</div>"
      ],
      "text/plain": [
       "   first     last                   email\n",
       "0  Corey  Schafer  Coreyschafer@gmail.com\n",
       "1   Jane      Doe       JaneDoe@email.com\n",
       "2   John    Smith     JohnSmith@gmail.com"
      ]
     },
     "execution_count": 16,
     "metadata": {},
     "output_type": "execute_result"
    }
   ],
   "source": [
    "ex.loc[2] = ['John', 'Smith', 'JohnSmith@gmail.com']               # Method 1 (Not Recommended)\n",
    "ex"
   ]
  },
  {
   "cell_type": "code",
   "execution_count": 20,
   "id": "7a8d9db7",
   "metadata": {},
   "outputs": [
    {
     "data": {
      "text/html": [
       "<div>\n",
       "<style scoped>\n",
       "    .dataframe tbody tr th:only-of-type {\n",
       "        vertical-align: middle;\n",
       "    }\n",
       "\n",
       "    .dataframe tbody tr th {\n",
       "        vertical-align: top;\n",
       "    }\n",
       "\n",
       "    .dataframe thead th {\n",
       "        text-align: right;\n",
       "    }\n",
       "</style>\n",
       "<table border=\"1\" class=\"dataframe\">\n",
       "  <thead>\n",
       "    <tr style=\"text-align: right;\">\n",
       "      <th></th>\n",
       "      <th>first</th>\n",
       "      <th>last</th>\n",
       "      <th>email</th>\n",
       "    </tr>\n",
       "  </thead>\n",
       "  <tbody>\n",
       "    <tr>\n",
       "      <th>0</th>\n",
       "      <td>Corey</td>\n",
       "      <td>Schafer</td>\n",
       "      <td>Coreyschafer@gmail.com</td>\n",
       "    </tr>\n",
       "    <tr>\n",
       "      <th>1</th>\n",
       "      <td>Jane</td>\n",
       "      <td>Doe</td>\n",
       "      <td>JaneDoe@email.com</td>\n",
       "    </tr>\n",
       "    <tr>\n",
       "      <th>2</th>\n",
       "      <td>John</td>\n",
       "      <td>Doe</td>\n",
       "      <td>JohnDoe@email.com</td>\n",
       "    </tr>\n",
       "  </tbody>\n",
       "</table>\n",
       "</div>"
      ],
      "text/plain": [
       "   first     last                   email\n",
       "0  Corey  Schafer  Coreyschafer@gmail.com\n",
       "1   Jane      Doe       JaneDoe@email.com\n",
       "2   John      Doe       JohnDoe@email.com"
      ]
     },
     "execution_count": 20,
     "metadata": {},
     "output_type": "execute_result"
    }
   ],
   "source": [
    "ex.loc[2, ['last','email']]  = ['Doe', 'JohnDoe@email.com']         # Method 2 using loc (Recommended)\n",
    "ex"
   ]
  },
  {
   "cell_type": "code",
   "execution_count": 21,
   "id": "0f371a40",
   "metadata": {},
   "outputs": [
    {
     "data": {
      "text/html": [
       "<div>\n",
       "<style scoped>\n",
       "    .dataframe tbody tr th:only-of-type {\n",
       "        vertical-align: middle;\n",
       "    }\n",
       "\n",
       "    .dataframe tbody tr th {\n",
       "        vertical-align: top;\n",
       "    }\n",
       "\n",
       "    .dataframe thead th {\n",
       "        text-align: right;\n",
       "    }\n",
       "</style>\n",
       "<table border=\"1\" class=\"dataframe\">\n",
       "  <thead>\n",
       "    <tr style=\"text-align: right;\">\n",
       "      <th></th>\n",
       "      <th>first</th>\n",
       "      <th>last</th>\n",
       "      <th>email</th>\n",
       "    </tr>\n",
       "  </thead>\n",
       "  <tbody>\n",
       "    <tr>\n",
       "      <th>0</th>\n",
       "      <td>Corey</td>\n",
       "      <td>Schafer</td>\n",
       "      <td>Coreyschafer@gmail.com</td>\n",
       "    </tr>\n",
       "    <tr>\n",
       "      <th>1</th>\n",
       "      <td>Jane</td>\n",
       "      <td>Doe</td>\n",
       "      <td>JaneDoe@email.com</td>\n",
       "    </tr>\n",
       "    <tr>\n",
       "      <th>2</th>\n",
       "      <td>John</td>\n",
       "      <td>Smith</td>\n",
       "      <td>JohnDoe@email.com</td>\n",
       "    </tr>\n",
       "  </tbody>\n",
       "</table>\n",
       "</div>"
      ],
      "text/plain": [
       "   first     last                   email\n",
       "0  Corey  Schafer  Coreyschafer@gmail.com\n",
       "1   Jane      Doe       JaneDoe@email.com\n",
       "2   John    Smith       JohnDoe@email.com"
      ]
     },
     "execution_count": 21,
     "metadata": {},
     "output_type": "execute_result"
    }
   ],
   "source": [
    "ex.loc[2, 'last'] = 'Smith'\n",
    "ex"
   ]
  },
  {
   "cell_type": "code",
   "execution_count": 22,
   "id": "37399c82",
   "metadata": {},
   "outputs": [
    {
     "data": {
      "text/html": [
       "<div>\n",
       "<style scoped>\n",
       "    .dataframe tbody tr th:only-of-type {\n",
       "        vertical-align: middle;\n",
       "    }\n",
       "\n",
       "    .dataframe tbody tr th {\n",
       "        vertical-align: top;\n",
       "    }\n",
       "\n",
       "    .dataframe thead th {\n",
       "        text-align: right;\n",
       "    }\n",
       "</style>\n",
       "<table border=\"1\" class=\"dataframe\">\n",
       "  <thead>\n",
       "    <tr style=\"text-align: right;\">\n",
       "      <th></th>\n",
       "      <th>first</th>\n",
       "      <th>last</th>\n",
       "      <th>email</th>\n",
       "    </tr>\n",
       "  </thead>\n",
       "  <tbody>\n",
       "    <tr>\n",
       "      <th>0</th>\n",
       "      <td>Corey</td>\n",
       "      <td>Schafer</td>\n",
       "      <td>Coreyschafer@gmail.com</td>\n",
       "    </tr>\n",
       "    <tr>\n",
       "      <th>1</th>\n",
       "      <td>Jane</td>\n",
       "      <td>Doe</td>\n",
       "      <td>JaneDoe@email.com</td>\n",
       "    </tr>\n",
       "    <tr>\n",
       "      <th>2</th>\n",
       "      <td>John</td>\n",
       "      <td>Doe</td>\n",
       "      <td>JohnDoe@email.com</td>\n",
       "    </tr>\n",
       "  </tbody>\n",
       "</table>\n",
       "</div>"
      ],
      "text/plain": [
       "   first     last                   email\n",
       "0  Corey  Schafer  Coreyschafer@gmail.com\n",
       "1   Jane      Doe       JaneDoe@email.com\n",
       "2   John      Doe       JohnDoe@email.com"
      ]
     },
     "execution_count": 22,
     "metadata": {},
     "output_type": "execute_result"
    }
   ],
   "source": [
    "ex.at[2, 'last'] = 'Doe'                             # Method 3 using at\n",
    "ex"
   ]
  },
  {
   "cell_type": "markdown",
   "id": "c0a2c69b",
   "metadata": {},
   "source": [
    "#### In case we have a large DF then we should use filter"
   ]
  },
  {
   "cell_type": "code",
   "execution_count": 25,
   "id": "07b09cf9",
   "metadata": {},
   "outputs": [
    {
     "name": "stderr",
     "output_type": "stream",
     "text": [
      "C:\\Users\\Himz\\AppData\\Local\\Temp\\ipykernel_3884\\501645368.py:2: SettingWithCopyWarning: \n",
      "A value is trying to be set on a copy of a slice from a DataFrame.\n",
      "Try using .loc[row_indexer,col_indexer] = value instead\n",
      "\n",
      "See the caveats in the documentation: https://pandas.pydata.org/pandas-docs/stable/user_guide/indexing.html#returning-a-view-versus-a-copy\n",
      "  ex[filt]['last'] = 'Smith'\n"
     ]
    }
   ],
   "source": [
    "filt = (ex['email'] == 'JohnDoe@email.com')\n",
    "ex[filt]['last'] = 'Smith'                            # WRONG METHOD"
   ]
  },
  {
   "cell_type": "code",
   "execution_count": 26,
   "id": "aa3b412b",
   "metadata": {},
   "outputs": [],
   "source": [
    "# This shows that we SHOULD use .loc or .at  to avoid error."
   ]
  },
  {
   "cell_type": "code",
   "execution_count": 28,
   "id": "0a6b0eb4",
   "metadata": {},
   "outputs": [
    {
     "data": {
      "text/html": [
       "<div>\n",
       "<style scoped>\n",
       "    .dataframe tbody tr th:only-of-type {\n",
       "        vertical-align: middle;\n",
       "    }\n",
       "\n",
       "    .dataframe tbody tr th {\n",
       "        vertical-align: top;\n",
       "    }\n",
       "\n",
       "    .dataframe thead th {\n",
       "        text-align: right;\n",
       "    }\n",
       "</style>\n",
       "<table border=\"1\" class=\"dataframe\">\n",
       "  <thead>\n",
       "    <tr style=\"text-align: right;\">\n",
       "      <th></th>\n",
       "      <th>first</th>\n",
       "      <th>last</th>\n",
       "      <th>email</th>\n",
       "    </tr>\n",
       "  </thead>\n",
       "  <tbody>\n",
       "    <tr>\n",
       "      <th>0</th>\n",
       "      <td>Corey</td>\n",
       "      <td>Schafer</td>\n",
       "      <td>Coreyschafer@gmail.com</td>\n",
       "    </tr>\n",
       "    <tr>\n",
       "      <th>1</th>\n",
       "      <td>Jane</td>\n",
       "      <td>Doe</td>\n",
       "      <td>JaneDoe@email.com</td>\n",
       "    </tr>\n",
       "    <tr>\n",
       "      <th>2</th>\n",
       "      <td>John</td>\n",
       "      <td>Smith</td>\n",
       "      <td>JohnDoe@email.com</td>\n",
       "    </tr>\n",
       "  </tbody>\n",
       "</table>\n",
       "</div>"
      ],
      "text/plain": [
       "   first     last                   email\n",
       "0  Corey  Schafer  Coreyschafer@gmail.com\n",
       "1   Jane      Doe       JaneDoe@email.com\n",
       "2   John    Smith       JohnDoe@email.com"
      ]
     },
     "execution_count": 28,
     "metadata": {},
     "output_type": "execute_result"
    }
   ],
   "source": [
    "filt = (ex['email'] == 'JohnDoe@email.com')\n",
    "ex.loc[filt,'last'] = 'Smith'                         # CORRECT METHOD\n",
    "ex"
   ]
  },
  {
   "cell_type": "markdown",
   "id": "4113c6f3",
   "metadata": {},
   "source": [
    "#### Let say I wanna change all email addresses to lowercase"
   ]
  },
  {
   "cell_type": "code",
   "execution_count": 30,
   "id": "7103a967",
   "metadata": {},
   "outputs": [
    {
     "data": {
      "text/html": [
       "<div>\n",
       "<style scoped>\n",
       "    .dataframe tbody tr th:only-of-type {\n",
       "        vertical-align: middle;\n",
       "    }\n",
       "\n",
       "    .dataframe tbody tr th {\n",
       "        vertical-align: top;\n",
       "    }\n",
       "\n",
       "    .dataframe thead th {\n",
       "        text-align: right;\n",
       "    }\n",
       "</style>\n",
       "<table border=\"1\" class=\"dataframe\">\n",
       "  <thead>\n",
       "    <tr style=\"text-align: right;\">\n",
       "      <th></th>\n",
       "      <th>first</th>\n",
       "      <th>last</th>\n",
       "      <th>email</th>\n",
       "    </tr>\n",
       "  </thead>\n",
       "  <tbody>\n",
       "    <tr>\n",
       "      <th>0</th>\n",
       "      <td>Corey</td>\n",
       "      <td>Schafer</td>\n",
       "      <td>coreyschafer@gmail.com</td>\n",
       "    </tr>\n",
       "    <tr>\n",
       "      <th>1</th>\n",
       "      <td>Jane</td>\n",
       "      <td>Doe</td>\n",
       "      <td>janedoe@email.com</td>\n",
       "    </tr>\n",
       "    <tr>\n",
       "      <th>2</th>\n",
       "      <td>John</td>\n",
       "      <td>Smith</td>\n",
       "      <td>johndoe@email.com</td>\n",
       "    </tr>\n",
       "  </tbody>\n",
       "</table>\n",
       "</div>"
      ],
      "text/plain": [
       "   first     last                   email\n",
       "0  Corey  Schafer  coreyschafer@gmail.com\n",
       "1   Jane      Doe       janedoe@email.com\n",
       "2   John    Smith       johndoe@email.com"
      ]
     },
     "execution_count": 30,
     "metadata": {},
     "output_type": "execute_result"
    }
   ],
   "source": [
    "ex['email'].str.lower()                    # Not permanent\n",
    "ex['email'] = ex['email'].str.lower()      # Permanent\n",
    "\n",
    "ex"
   ]
  },
  {
   "cell_type": "markdown",
   "id": "4fd94dd1",
   "metadata": {},
   "source": [
    "#### "
   ]
  },
  {
   "cell_type": "markdown",
   "id": "cf0c6be1",
   "metadata": {},
   "source": [
    "### Important Methods to perform modifying operations"
   ]
  },
  {
   "cell_type": "markdown",
   "id": "50fc2b9f",
   "metadata": {},
   "source": [
    "##### 1. Apply\n",
    "##### 2. Applymap\n",
    "##### 3. Map\n",
    "##### 4. Replace\n",
    "##### ---------------------------"
   ]
  },
  {
   "cell_type": "markdown",
   "id": "621584b3",
   "metadata": {},
   "source": [
    "#### 1. Apply method"
   ]
  },
  {
   "cell_type": "code",
   "execution_count": 31,
   "id": "5cd2d9f8",
   "metadata": {},
   "outputs": [],
   "source": [
    "# Used for calling a function on our value. Can work on both DF and series object."
   ]
  },
  {
   "cell_type": "code",
   "execution_count": 32,
   "id": "00f738c6",
   "metadata": {},
   "outputs": [
    {
     "data": {
      "text/plain": [
       "0    22\n",
       "1    17\n",
       "2    17\n",
       "Name: email, dtype: int64"
      ]
     },
     "execution_count": 32,
     "metadata": {},
     "output_type": "execute_result"
    }
   ],
   "source": [
    "ex['email'].apply(len)           # It's showing us length of our emails."
   ]
  },
  {
   "cell_type": "code",
   "execution_count": 33,
   "id": "ed0e875c",
   "metadata": {},
   "outputs": [
    {
     "data": {
      "text/plain": [
       "0    COREYSCHAFER@GMAIL.COM\n",
       "1         JANEDOE@EMAIL.COM\n",
       "2         JOHNDOE@EMAIL.COM\n",
       "Name: email, dtype: object"
      ]
     },
     "execution_count": 33,
     "metadata": {},
     "output_type": "execute_result"
    }
   ],
   "source": [
    "def update_email(email):\n",
    "    return email.upper()\n",
    "\n",
    "ex['email'].apply(update_email)              # Upper casing our emails but it's not permanent yet"
   ]
  },
  {
   "cell_type": "code",
   "execution_count": 34,
   "id": "ffc189c8",
   "metadata": {},
   "outputs": [
    {
     "data": {
      "text/html": [
       "<div>\n",
       "<style scoped>\n",
       "    .dataframe tbody tr th:only-of-type {\n",
       "        vertical-align: middle;\n",
       "    }\n",
       "\n",
       "    .dataframe tbody tr th {\n",
       "        vertical-align: top;\n",
       "    }\n",
       "\n",
       "    .dataframe thead th {\n",
       "        text-align: right;\n",
       "    }\n",
       "</style>\n",
       "<table border=\"1\" class=\"dataframe\">\n",
       "  <thead>\n",
       "    <tr style=\"text-align: right;\">\n",
       "      <th></th>\n",
       "      <th>first</th>\n",
       "      <th>last</th>\n",
       "      <th>email</th>\n",
       "    </tr>\n",
       "  </thead>\n",
       "  <tbody>\n",
       "    <tr>\n",
       "      <th>0</th>\n",
       "      <td>Corey</td>\n",
       "      <td>Schafer</td>\n",
       "      <td>COREYSCHAFER@GMAIL.COM</td>\n",
       "    </tr>\n",
       "    <tr>\n",
       "      <th>1</th>\n",
       "      <td>Jane</td>\n",
       "      <td>Doe</td>\n",
       "      <td>JANEDOE@EMAIL.COM</td>\n",
       "    </tr>\n",
       "    <tr>\n",
       "      <th>2</th>\n",
       "      <td>John</td>\n",
       "      <td>Smith</td>\n",
       "      <td>JOHNDOE@EMAIL.COM</td>\n",
       "    </tr>\n",
       "  </tbody>\n",
       "</table>\n",
       "</div>"
      ],
      "text/plain": [
       "   first     last                   email\n",
       "0  Corey  Schafer  COREYSCHAFER@GMAIL.COM\n",
       "1   Jane      Doe       JANEDOE@EMAIL.COM\n",
       "2   John    Smith       JOHNDOE@EMAIL.COM"
      ]
     },
     "execution_count": 34,
     "metadata": {},
     "output_type": "execute_result"
    }
   ],
   "source": [
    "ex['email'] = ex['email'].apply(update_email)\n",
    "ex"
   ]
  },
  {
   "cell_type": "markdown",
   "id": "2bb47011",
   "metadata": {},
   "source": [
    "##### Now moving them back to lowercase with LAMBDA function, it helps in not defining a function separately."
   ]
  },
  {
   "cell_type": "code",
   "execution_count": 37,
   "id": "f843ce9d",
   "metadata": {},
   "outputs": [
    {
     "data": {
      "text/html": [
       "<div>\n",
       "<style scoped>\n",
       "    .dataframe tbody tr th:only-of-type {\n",
       "        vertical-align: middle;\n",
       "    }\n",
       "\n",
       "    .dataframe tbody tr th {\n",
       "        vertical-align: top;\n",
       "    }\n",
       "\n",
       "    .dataframe thead th {\n",
       "        text-align: right;\n",
       "    }\n",
       "</style>\n",
       "<table border=\"1\" class=\"dataframe\">\n",
       "  <thead>\n",
       "    <tr style=\"text-align: right;\">\n",
       "      <th></th>\n",
       "      <th>first</th>\n",
       "      <th>last</th>\n",
       "      <th>email</th>\n",
       "    </tr>\n",
       "  </thead>\n",
       "  <tbody>\n",
       "    <tr>\n",
       "      <th>0</th>\n",
       "      <td>Corey</td>\n",
       "      <td>Schafer</td>\n",
       "      <td>coreyschafer@gmail.com</td>\n",
       "    </tr>\n",
       "    <tr>\n",
       "      <th>1</th>\n",
       "      <td>Jane</td>\n",
       "      <td>Doe</td>\n",
       "      <td>janedoe@email.com</td>\n",
       "    </tr>\n",
       "    <tr>\n",
       "      <th>2</th>\n",
       "      <td>John</td>\n",
       "      <td>Smith</td>\n",
       "      <td>johndoe@email.com</td>\n",
       "    </tr>\n",
       "  </tbody>\n",
       "</table>\n",
       "</div>"
      ],
      "text/plain": [
       "   first     last                   email\n",
       "0  Corey  Schafer  coreyschafer@gmail.com\n",
       "1   Jane      Doe       janedoe@email.com\n",
       "2   John    Smith       johndoe@email.com"
      ]
     },
     "execution_count": 37,
     "metadata": {},
     "output_type": "execute_result"
    }
   ],
   "source": [
    "ex['email'] = ex['email'].apply(lambda x:x.lower())\n",
    "ex"
   ]
  },
  {
   "cell_type": "markdown",
   "id": "e8d6af0b",
   "metadata": {},
   "source": [
    "##### Using Apply with DataFrames"
   ]
  },
  {
   "cell_type": "code",
   "execution_count": 38,
   "id": "c311af06",
   "metadata": {},
   "outputs": [],
   "source": [
    "# It runs function on each and every row column of series within the dataframe"
   ]
  },
  {
   "cell_type": "code",
   "execution_count": 39,
   "id": "912cdb39",
   "metadata": {},
   "outputs": [
    {
     "data": {
      "text/plain": [
       "first    3\n",
       "last     3\n",
       "email    3\n",
       "dtype: int64"
      ]
     },
     "execution_count": 39,
     "metadata": {},
     "output_type": "execute_result"
    }
   ],
   "source": [
    "ex.apply(len)        # Doesn't work this way!"
   ]
  },
  {
   "cell_type": "code",
   "execution_count": 40,
   "id": "d0d5bd70",
   "metadata": {},
   "outputs": [
    {
     "data": {
      "text/plain": [
       "first                     Corey\n",
       "last                        Doe\n",
       "email    coreyschafer@gmail.com\n",
       "dtype: object"
      ]
     },
     "execution_count": 40,
     "metadata": {},
     "output_type": "execute_result"
    }
   ],
   "source": [
    "ex.apply(pd.Series.min)           # It tells minimum value of each row/col of dataframe"
   ]
  },
  {
   "cell_type": "code",
   "execution_count": 41,
   "id": "41f313f8",
   "metadata": {},
   "outputs": [
    {
     "data": {
      "text/plain": [
       "first                     Corey\n",
       "last                        Doe\n",
       "email    coreyschafer@gmail.com\n",
       "dtype: object"
      ]
     },
     "execution_count": 41,
     "metadata": {},
     "output_type": "execute_result"
    }
   ],
   "source": [
    "ex.apply(lambda x: x.min())        # We get same result "
   ]
  },
  {
   "cell_type": "code",
   "execution_count": null,
   "id": "e6a833cf",
   "metadata": {},
   "outputs": [],
   "source": [
    "# Running APPLY on a series, applies fucntion to every value of series.\n",
    "# Running APPLY on a DataFrame, applies function to each series."
   ]
  },
  {
   "cell_type": "markdown",
   "id": "de81ed18",
   "metadata": {},
   "source": [
    "#### "
   ]
  },
  {
   "cell_type": "markdown",
   "id": "df773fea",
   "metadata": {},
   "source": [
    "#### 2. Applymap"
   ]
  },
  {
   "cell_type": "code",
   "execution_count": 43,
   "id": "a48c969f",
   "metadata": {},
   "outputs": [],
   "source": [
    "# Used to apply function to every individual element in the DataFrame.  Notice the difference here. Here DF is applying function\n",
    "# to all elements while in APPLY it was applying function to the series only. It's deeper.\n",
    "\n",
    "# Series objects doesn't have applymap method"
   ]
  },
  {
   "cell_type": "code",
   "execution_count": 44,
   "id": "3697735a",
   "metadata": {},
   "outputs": [
    {
     "data": {
      "text/html": [
       "<div>\n",
       "<style scoped>\n",
       "    .dataframe tbody tr th:only-of-type {\n",
       "        vertical-align: middle;\n",
       "    }\n",
       "\n",
       "    .dataframe tbody tr th {\n",
       "        vertical-align: top;\n",
       "    }\n",
       "\n",
       "    .dataframe thead th {\n",
       "        text-align: right;\n",
       "    }\n",
       "</style>\n",
       "<table border=\"1\" class=\"dataframe\">\n",
       "  <thead>\n",
       "    <tr style=\"text-align: right;\">\n",
       "      <th></th>\n",
       "      <th>first</th>\n",
       "      <th>last</th>\n",
       "      <th>email</th>\n",
       "    </tr>\n",
       "  </thead>\n",
       "  <tbody>\n",
       "    <tr>\n",
       "      <th>0</th>\n",
       "      <td>5</td>\n",
       "      <td>7</td>\n",
       "      <td>22</td>\n",
       "    </tr>\n",
       "    <tr>\n",
       "      <th>1</th>\n",
       "      <td>4</td>\n",
       "      <td>3</td>\n",
       "      <td>17</td>\n",
       "    </tr>\n",
       "    <tr>\n",
       "      <th>2</th>\n",
       "      <td>4</td>\n",
       "      <td>5</td>\n",
       "      <td>17</td>\n",
       "    </tr>\n",
       "  </tbody>\n",
       "</table>\n",
       "</div>"
      ],
      "text/plain": [
       "   first  last  email\n",
       "0      5     7     22\n",
       "1      4     3     17\n",
       "2      4     5     17"
      ]
     },
     "execution_count": 44,
     "metadata": {},
     "output_type": "execute_result"
    }
   ],
   "source": [
    "ex.applymap(len)"
   ]
  },
  {
   "cell_type": "code",
   "execution_count": 45,
   "id": "cdd727d4",
   "metadata": {},
   "outputs": [
    {
     "data": {
      "text/plain": [
       "first    3\n",
       "last     3\n",
       "email    3\n",
       "dtype: int64"
      ]
     },
     "execution_count": 45,
     "metadata": {},
     "output_type": "execute_result"
    }
   ],
   "source": [
    "ex.apply(len)"
   ]
  },
  {
   "cell_type": "markdown",
   "id": "4a6e01b5",
   "metadata": {},
   "source": [
    "#####  To turn all of your fields into lowercase at once..."
   ]
  },
  {
   "cell_type": "code",
   "execution_count": 48,
   "id": "9ec554d4",
   "metadata": {},
   "outputs": [
    {
     "data": {
      "text/html": [
       "<div>\n",
       "<style scoped>\n",
       "    .dataframe tbody tr th:only-of-type {\n",
       "        vertical-align: middle;\n",
       "    }\n",
       "\n",
       "    .dataframe tbody tr th {\n",
       "        vertical-align: top;\n",
       "    }\n",
       "\n",
       "    .dataframe thead th {\n",
       "        text-align: right;\n",
       "    }\n",
       "</style>\n",
       "<table border=\"1\" class=\"dataframe\">\n",
       "  <thead>\n",
       "    <tr style=\"text-align: right;\">\n",
       "      <th></th>\n",
       "      <th>first</th>\n",
       "      <th>last</th>\n",
       "      <th>email</th>\n",
       "    </tr>\n",
       "  </thead>\n",
       "  <tbody>\n",
       "    <tr>\n",
       "      <th>0</th>\n",
       "      <td>corey</td>\n",
       "      <td>schafer</td>\n",
       "      <td>coreyschafer@gmail.com</td>\n",
       "    </tr>\n",
       "    <tr>\n",
       "      <th>1</th>\n",
       "      <td>jane</td>\n",
       "      <td>doe</td>\n",
       "      <td>janedoe@email.com</td>\n",
       "    </tr>\n",
       "    <tr>\n",
       "      <th>2</th>\n",
       "      <td>john</td>\n",
       "      <td>smith</td>\n",
       "      <td>johndoe@email.com</td>\n",
       "    </tr>\n",
       "  </tbody>\n",
       "</table>\n",
       "</div>"
      ],
      "text/plain": [
       "   first     last                   email\n",
       "0  corey  schafer  coreyschafer@gmail.com\n",
       "1   jane      doe       janedoe@email.com\n",
       "2   john    smith       johndoe@email.com"
      ]
     },
     "execution_count": 48,
     "metadata": {},
     "output_type": "execute_result"
    }
   ],
   "source": [
    "ex.applymap(str.lower)"
   ]
  },
  {
   "cell_type": "markdown",
   "id": "80114080",
   "metadata": {},
   "source": [
    "#### "
   ]
  },
  {
   "cell_type": "markdown",
   "id": "14c2cfd7",
   "metadata": {},
   "source": [
    "#### 3. Map"
   ]
  },
  {
   "cell_type": "code",
   "execution_count": 49,
   "id": "ba2a63ed",
   "metadata": {},
   "outputs": [],
   "source": [
    "# Only works on Series. Map is used for substituting each value of series with another value."
   ]
  },
  {
   "cell_type": "markdown",
   "id": "f2956fb3",
   "metadata": {},
   "source": [
    "##### Let say we want to substiute couple of our first names"
   ]
  },
  {
   "cell_type": "code",
   "execution_count": 50,
   "id": "7d25f7cf",
   "metadata": {},
   "outputs": [
    {
     "data": {
      "text/plain": [
       "0    Chris\n",
       "1     Mary\n",
       "2      NaN\n",
       "Name: first, dtype: object"
      ]
     },
     "execution_count": 50,
     "metadata": {},
     "output_type": "execute_result"
    }
   ],
   "source": [
    "ex['first'].map({'Corey': 'Chris', 'Jane': 'Mary'})       # Notice that the values we didn't substitute has become NaN value!"
   ]
  },
  {
   "cell_type": "markdown",
   "id": "e2623b50",
   "metadata": {},
   "source": [
    "# "
   ]
  },
  {
   "cell_type": "markdown",
   "id": "52a5ec58",
   "metadata": {},
   "source": [
    "#### 4. Replace"
   ]
  },
  {
   "cell_type": "code",
   "execution_count": 51,
   "id": "f4bc6138",
   "metadata": {},
   "outputs": [],
   "source": [
    "# Works like MAP but instead of making the unused fields as NaN, it keeps them untouched."
   ]
  },
  {
   "cell_type": "code",
   "execution_count": 52,
   "id": "ebceff24",
   "metadata": {},
   "outputs": [
    {
     "data": {
      "text/plain": [
       "0    Chris\n",
       "1     Mary\n",
       "2     John\n",
       "Name: first, dtype: object"
      ]
     },
     "execution_count": 52,
     "metadata": {},
     "output_type": "execute_result"
    }
   ],
   "source": [
    "ex['first'].replace({'Corey': 'Chris', 'Jane': 'Mary'}) "
   ]
  },
  {
   "cell_type": "code",
   "execution_count": 53,
   "id": "38cc9f9c",
   "metadata": {},
   "outputs": [
    {
     "data": {
      "text/html": [
       "<div>\n",
       "<style scoped>\n",
       "    .dataframe tbody tr th:only-of-type {\n",
       "        vertical-align: middle;\n",
       "    }\n",
       "\n",
       "    .dataframe tbody tr th {\n",
       "        vertical-align: top;\n",
       "    }\n",
       "\n",
       "    .dataframe thead th {\n",
       "        text-align: right;\n",
       "    }\n",
       "</style>\n",
       "<table border=\"1\" class=\"dataframe\">\n",
       "  <thead>\n",
       "    <tr style=\"text-align: right;\">\n",
       "      <th></th>\n",
       "      <th>first</th>\n",
       "      <th>last</th>\n",
       "      <th>email</th>\n",
       "    </tr>\n",
       "  </thead>\n",
       "  <tbody>\n",
       "    <tr>\n",
       "      <th>0</th>\n",
       "      <td>Chris</td>\n",
       "      <td>Schafer</td>\n",
       "      <td>coreyschafer@gmail.com</td>\n",
       "    </tr>\n",
       "    <tr>\n",
       "      <th>1</th>\n",
       "      <td>Mary</td>\n",
       "      <td>Doe</td>\n",
       "      <td>janedoe@email.com</td>\n",
       "    </tr>\n",
       "    <tr>\n",
       "      <th>2</th>\n",
       "      <td>John</td>\n",
       "      <td>Smith</td>\n",
       "      <td>johndoe@email.com</td>\n",
       "    </tr>\n",
       "  </tbody>\n",
       "</table>\n",
       "</div>"
      ],
      "text/plain": [
       "   first     last                   email\n",
       "0  Chris  Schafer  coreyschafer@gmail.com\n",
       "1   Mary      Doe       janedoe@email.com\n",
       "2   John    Smith       johndoe@email.com"
      ]
     },
     "execution_count": 53,
     "metadata": {},
     "output_type": "execute_result"
    }
   ],
   "source": [
    "ex['first'] = ex['first'].replace({'Corey': 'Chris', 'Jane': 'Mary'}) \n",
    "ex"
   ]
  },
  {
   "cell_type": "markdown",
   "id": "cc35698d",
   "metadata": {},
   "source": [
    "# "
   ]
  },
  {
   "cell_type": "markdown",
   "id": "76e861c5",
   "metadata": {},
   "source": [
    "### Let's move to larger dataset and see the application in real-life"
   ]
  },
  {
   "cell_type": "code",
   "execution_count": 54,
   "id": "35e52825",
   "metadata": {},
   "outputs": [],
   "source": [
    "df = pd.read_csv('data/survey_results_public.csv')\n",
    "schema_df = pd.read_csv('data/survey_results_schema.csv')"
   ]
  },
  {
   "cell_type": "code",
   "execution_count": 55,
   "id": "78976ee6",
   "metadata": {},
   "outputs": [],
   "source": [
    "pd.set_option('display.max_columns',85) \n",
    "pd.set_option('display.max_rows',85) "
   ]
  },
  {
   "cell_type": "markdown",
   "id": "1d7caf16",
   "metadata": {},
   "source": [
    "#### "
   ]
  },
  {
   "cell_type": "markdown",
   "id": "1fdfc6ad",
   "metadata": {},
   "source": [
    "#### Changing salary column name "
   ]
  },
  {
   "cell_type": "code",
   "execution_count": 58,
   "id": "12040738",
   "metadata": {},
   "outputs": [
    {
     "data": {
      "text/plain": [
       "0            NaN\n",
       "1            NaN\n",
       "2         8820.0\n",
       "3        61000.0\n",
       "4            NaN\n",
       "          ...   \n",
       "88878        NaN\n",
       "88879        NaN\n",
       "88880        NaN\n",
       "88881        NaN\n",
       "88882        NaN\n",
       "Name: SalaryUSD, Length: 88883, dtype: float64"
      ]
     },
     "execution_count": 58,
     "metadata": {},
     "output_type": "execute_result"
    }
   ],
   "source": [
    "df.rename(columns={'ConvertedComp': 'SalaryUSD'}, inplace=True)\n",
    "\n",
    "df['SalaryUSD']"
   ]
  },
  {
   "cell_type": "markdown",
   "id": "42a176ae",
   "metadata": {},
   "source": [
    "#### Changing  Yes to True and No to False in Hobbyist Column"
   ]
  },
  {
   "cell_type": "code",
   "execution_count": 59,
   "id": "0e5a5e42",
   "metadata": {},
   "outputs": [
    {
     "data": {
      "text/plain": [
       "0         True\n",
       "1        False\n",
       "2         True\n",
       "3        False\n",
       "4         True\n",
       "         ...  \n",
       "88878     True\n",
       "88879    False\n",
       "88880    False\n",
       "88881    False\n",
       "88882     True\n",
       "Name: Hobbyist, Length: 88883, dtype: bool"
      ]
     },
     "execution_count": 59,
     "metadata": {},
     "output_type": "execute_result"
    }
   ],
   "source": [
    "df['Hobbyist'].map({'Yes': True, 'No': False})"
   ]
  },
  {
   "cell_type": "code",
   "execution_count": 60,
   "id": "ffa8174b",
   "metadata": {},
   "outputs": [
    {
     "data": {
      "text/html": [
       "<div>\n",
       "<style scoped>\n",
       "    .dataframe tbody tr th:only-of-type {\n",
       "        vertical-align: middle;\n",
       "    }\n",
       "\n",
       "    .dataframe tbody tr th {\n",
       "        vertical-align: top;\n",
       "    }\n",
       "\n",
       "    .dataframe thead th {\n",
       "        text-align: right;\n",
       "    }\n",
       "</style>\n",
       "<table border=\"1\" class=\"dataframe\">\n",
       "  <thead>\n",
       "    <tr style=\"text-align: right;\">\n",
       "      <th></th>\n",
       "      <th>Respondent</th>\n",
       "      <th>MainBranch</th>\n",
       "      <th>Hobbyist</th>\n",
       "      <th>OpenSourcer</th>\n",
       "      <th>OpenSource</th>\n",
       "      <th>Employment</th>\n",
       "      <th>Country</th>\n",
       "      <th>Student</th>\n",
       "      <th>EdLevel</th>\n",
       "      <th>UndergradMajor</th>\n",
       "      <th>EduOther</th>\n",
       "      <th>OrgSize</th>\n",
       "      <th>DevType</th>\n",
       "      <th>YearsCode</th>\n",
       "      <th>Age1stCode</th>\n",
       "      <th>YearsCodePro</th>\n",
       "      <th>CareerSat</th>\n",
       "      <th>JobSat</th>\n",
       "      <th>MgrIdiot</th>\n",
       "      <th>MgrMoney</th>\n",
       "      <th>MgrWant</th>\n",
       "      <th>JobSeek</th>\n",
       "      <th>LastHireDate</th>\n",
       "      <th>LastInt</th>\n",
       "      <th>FizzBuzz</th>\n",
       "      <th>JobFactors</th>\n",
       "      <th>ResumeUpdate</th>\n",
       "      <th>CurrencySymbol</th>\n",
       "      <th>CurrencyDesc</th>\n",
       "      <th>CompTotal</th>\n",
       "      <th>CompFreq</th>\n",
       "      <th>SalaryUSD</th>\n",
       "      <th>WorkWeekHrs</th>\n",
       "      <th>WorkPlan</th>\n",
       "      <th>WorkChallenge</th>\n",
       "      <th>WorkRemote</th>\n",
       "      <th>WorkLoc</th>\n",
       "      <th>ImpSyn</th>\n",
       "      <th>CodeRev</th>\n",
       "      <th>CodeRevHrs</th>\n",
       "      <th>UnitTests</th>\n",
       "      <th>PurchaseHow</th>\n",
       "      <th>PurchaseWhat</th>\n",
       "      <th>LanguageWorkedWith</th>\n",
       "      <th>LanguageDesireNextYear</th>\n",
       "      <th>DatabaseWorkedWith</th>\n",
       "      <th>DatabaseDesireNextYear</th>\n",
       "      <th>PlatformWorkedWith</th>\n",
       "      <th>PlatformDesireNextYear</th>\n",
       "      <th>WebFrameWorkedWith</th>\n",
       "      <th>WebFrameDesireNextYear</th>\n",
       "      <th>MiscTechWorkedWith</th>\n",
       "      <th>MiscTechDesireNextYear</th>\n",
       "      <th>DevEnviron</th>\n",
       "      <th>OpSys</th>\n",
       "      <th>Containers</th>\n",
       "      <th>BlockchainOrg</th>\n",
       "      <th>BlockchainIs</th>\n",
       "      <th>BetterLife</th>\n",
       "      <th>ITperson</th>\n",
       "      <th>OffOn</th>\n",
       "      <th>SocialMedia</th>\n",
       "      <th>Extraversion</th>\n",
       "      <th>ScreenName</th>\n",
       "      <th>SOVisit1st</th>\n",
       "      <th>SOVisitFreq</th>\n",
       "      <th>SOVisitTo</th>\n",
       "      <th>SOFindAnswer</th>\n",
       "      <th>SOTimeSaved</th>\n",
       "      <th>SOHowMuchTime</th>\n",
       "      <th>SOAccount</th>\n",
       "      <th>SOPartFreq</th>\n",
       "      <th>SOJobs</th>\n",
       "      <th>EntTeams</th>\n",
       "      <th>SOComm</th>\n",
       "      <th>WelcomeChange</th>\n",
       "      <th>SONewContent</th>\n",
       "      <th>Age</th>\n",
       "      <th>Gender</th>\n",
       "      <th>Trans</th>\n",
       "      <th>Sexuality</th>\n",
       "      <th>Ethnicity</th>\n",
       "      <th>Dependents</th>\n",
       "      <th>SurveyLength</th>\n",
       "      <th>SurveyEase</th>\n",
       "    </tr>\n",
       "  </thead>\n",
       "  <tbody>\n",
       "    <tr>\n",
       "      <th>0</th>\n",
       "      <td>1</td>\n",
       "      <td>I am a student who is learning to code</td>\n",
       "      <td>True</td>\n",
       "      <td>Never</td>\n",
       "      <td>The quality of OSS and closed source software ...</td>\n",
       "      <td>Not employed, and not looking for work</td>\n",
       "      <td>United Kingdom</td>\n",
       "      <td>No</td>\n",
       "      <td>Primary/elementary school</td>\n",
       "      <td>NaN</td>\n",
       "      <td>Taught yourself a new language, framework, or ...</td>\n",
       "      <td>NaN</td>\n",
       "      <td>NaN</td>\n",
       "      <td>4</td>\n",
       "      <td>10</td>\n",
       "      <td>NaN</td>\n",
       "      <td>NaN</td>\n",
       "      <td>NaN</td>\n",
       "      <td>NaN</td>\n",
       "      <td>NaN</td>\n",
       "      <td>NaN</td>\n",
       "      <td>NaN</td>\n",
       "      <td>NaN</td>\n",
       "      <td>NaN</td>\n",
       "      <td>NaN</td>\n",
       "      <td>NaN</td>\n",
       "      <td>NaN</td>\n",
       "      <td>NaN</td>\n",
       "      <td>NaN</td>\n",
       "      <td>NaN</td>\n",
       "      <td>NaN</td>\n",
       "      <td>NaN</td>\n",
       "      <td>NaN</td>\n",
       "      <td>NaN</td>\n",
       "      <td>NaN</td>\n",
       "      <td>NaN</td>\n",
       "      <td>NaN</td>\n",
       "      <td>NaN</td>\n",
       "      <td>NaN</td>\n",
       "      <td>NaN</td>\n",
       "      <td>NaN</td>\n",
       "      <td>NaN</td>\n",
       "      <td>NaN</td>\n",
       "      <td>HTML/CSS;Java;JavaScript;Python</td>\n",
       "      <td>C;C++;C#;Go;HTML/CSS;Java;JavaScript;Python;SQL</td>\n",
       "      <td>SQLite</td>\n",
       "      <td>MySQL</td>\n",
       "      <td>MacOS;Windows</td>\n",
       "      <td>Android;Arduino;Windows</td>\n",
       "      <td>Django;Flask</td>\n",
       "      <td>Flask;jQuery</td>\n",
       "      <td>Node.js</td>\n",
       "      <td>Node.js</td>\n",
       "      <td>IntelliJ;Notepad++;PyCharm</td>\n",
       "      <td>Windows</td>\n",
       "      <td>I do not use containers</td>\n",
       "      <td>NaN</td>\n",
       "      <td>NaN</td>\n",
       "      <td>Yes</td>\n",
       "      <td>Fortunately, someone else has that title</td>\n",
       "      <td>Yes</td>\n",
       "      <td>Twitter</td>\n",
       "      <td>Online</td>\n",
       "      <td>Username</td>\n",
       "      <td>2017</td>\n",
       "      <td>A few times per month or weekly</td>\n",
       "      <td>Find answers to specific questions;Learn how t...</td>\n",
       "      <td>3-5 times per week</td>\n",
       "      <td>Stack Overflow was much faster</td>\n",
       "      <td>31-60 minutes</td>\n",
       "      <td>No</td>\n",
       "      <td>NaN</td>\n",
       "      <td>No, I didn't know that Stack Overflow had a jo...</td>\n",
       "      <td>No, and I don't know what those are</td>\n",
       "      <td>Neutral</td>\n",
       "      <td>Just as welcome now as I felt last year</td>\n",
       "      <td>Tech articles written by other developers;Indu...</td>\n",
       "      <td>14.0</td>\n",
       "      <td>Man</td>\n",
       "      <td>No</td>\n",
       "      <td>Straight / Heterosexual</td>\n",
       "      <td>NaN</td>\n",
       "      <td>No</td>\n",
       "      <td>Appropriate in length</td>\n",
       "      <td>Neither easy nor difficult</td>\n",
       "    </tr>\n",
       "    <tr>\n",
       "      <th>1</th>\n",
       "      <td>2</td>\n",
       "      <td>I am a student who is learning to code</td>\n",
       "      <td>False</td>\n",
       "      <td>Less than once per year</td>\n",
       "      <td>The quality of OSS and closed source software ...</td>\n",
       "      <td>Not employed, but looking for work</td>\n",
       "      <td>Bosnia and Herzegovina</td>\n",
       "      <td>Yes, full-time</td>\n",
       "      <td>Secondary school (e.g. American high school, G...</td>\n",
       "      <td>NaN</td>\n",
       "      <td>Taken an online course in programming or softw...</td>\n",
       "      <td>NaN</td>\n",
       "      <td>Developer, desktop or enterprise applications;...</td>\n",
       "      <td>NaN</td>\n",
       "      <td>17</td>\n",
       "      <td>NaN</td>\n",
       "      <td>NaN</td>\n",
       "      <td>NaN</td>\n",
       "      <td>NaN</td>\n",
       "      <td>NaN</td>\n",
       "      <td>NaN</td>\n",
       "      <td>I am actively looking for a job</td>\n",
       "      <td>I've never had a job</td>\n",
       "      <td>NaN</td>\n",
       "      <td>NaN</td>\n",
       "      <td>Financial performance or funding status of the...</td>\n",
       "      <td>Something else changed (education, award, medi...</td>\n",
       "      <td>NaN</td>\n",
       "      <td>NaN</td>\n",
       "      <td>NaN</td>\n",
       "      <td>NaN</td>\n",
       "      <td>NaN</td>\n",
       "      <td>NaN</td>\n",
       "      <td>NaN</td>\n",
       "      <td>NaN</td>\n",
       "      <td>NaN</td>\n",
       "      <td>NaN</td>\n",
       "      <td>NaN</td>\n",
       "      <td>NaN</td>\n",
       "      <td>NaN</td>\n",
       "      <td>NaN</td>\n",
       "      <td>NaN</td>\n",
       "      <td>NaN</td>\n",
       "      <td>C++;HTML/CSS;Python</td>\n",
       "      <td>C++;HTML/CSS;JavaScript;SQL</td>\n",
       "      <td>NaN</td>\n",
       "      <td>MySQL</td>\n",
       "      <td>Windows</td>\n",
       "      <td>Windows</td>\n",
       "      <td>Django</td>\n",
       "      <td>Django</td>\n",
       "      <td>NaN</td>\n",
       "      <td>NaN</td>\n",
       "      <td>Atom;PyCharm</td>\n",
       "      <td>Windows</td>\n",
       "      <td>I do not use containers</td>\n",
       "      <td>NaN</td>\n",
       "      <td>Useful across many domains and could change ma...</td>\n",
       "      <td>Yes</td>\n",
       "      <td>Yes</td>\n",
       "      <td>Yes</td>\n",
       "      <td>Instagram</td>\n",
       "      <td>Online</td>\n",
       "      <td>Username</td>\n",
       "      <td>2017</td>\n",
       "      <td>Daily or almost daily</td>\n",
       "      <td>Find answers to specific questions;Learn how t...</td>\n",
       "      <td>3-5 times per week</td>\n",
       "      <td>Stack Overflow was much faster</td>\n",
       "      <td>11-30 minutes</td>\n",
       "      <td>Yes</td>\n",
       "      <td>A few times per month or weekly</td>\n",
       "      <td>No, I knew that Stack Overflow had a job board...</td>\n",
       "      <td>No, and I don't know what those are</td>\n",
       "      <td>Yes, somewhat</td>\n",
       "      <td>Just as welcome now as I felt last year</td>\n",
       "      <td>Tech articles written by other developers;Indu...</td>\n",
       "      <td>19.0</td>\n",
       "      <td>Man</td>\n",
       "      <td>No</td>\n",
       "      <td>Straight / Heterosexual</td>\n",
       "      <td>NaN</td>\n",
       "      <td>No</td>\n",
       "      <td>Appropriate in length</td>\n",
       "      <td>Neither easy nor difficult</td>\n",
       "    </tr>\n",
       "    <tr>\n",
       "      <th>2</th>\n",
       "      <td>3</td>\n",
       "      <td>I am not primarily a developer, but I write co...</td>\n",
       "      <td>True</td>\n",
       "      <td>Never</td>\n",
       "      <td>The quality of OSS and closed source software ...</td>\n",
       "      <td>Employed full-time</td>\n",
       "      <td>Thailand</td>\n",
       "      <td>No</td>\n",
       "      <td>Bachelor’s degree (BA, BS, B.Eng., etc.)</td>\n",
       "      <td>Web development or web design</td>\n",
       "      <td>Taught yourself a new language, framework, or ...</td>\n",
       "      <td>100 to 499 employees</td>\n",
       "      <td>Designer;Developer, back-end;Developer, front-...</td>\n",
       "      <td>3</td>\n",
       "      <td>22</td>\n",
       "      <td>1</td>\n",
       "      <td>Slightly satisfied</td>\n",
       "      <td>Slightly satisfied</td>\n",
       "      <td>Not at all confident</td>\n",
       "      <td>Not sure</td>\n",
       "      <td>Not sure</td>\n",
       "      <td>I’m not actively looking, but I am open to new...</td>\n",
       "      <td>1-2 years ago</td>\n",
       "      <td>Interview with people in peer roles</td>\n",
       "      <td>No</td>\n",
       "      <td>Languages, frameworks, and other technologies ...</td>\n",
       "      <td>I was preparing for a job search</td>\n",
       "      <td>THB</td>\n",
       "      <td>Thai baht</td>\n",
       "      <td>23000.0</td>\n",
       "      <td>Monthly</td>\n",
       "      <td>8820.0</td>\n",
       "      <td>40.0</td>\n",
       "      <td>There's no schedule or spec; I work on what se...</td>\n",
       "      <td>Distracting work environment;Inadequate access...</td>\n",
       "      <td>Less than once per month / Never</td>\n",
       "      <td>Home</td>\n",
       "      <td>Average</td>\n",
       "      <td>No</td>\n",
       "      <td>NaN</td>\n",
       "      <td>No, but I think we should</td>\n",
       "      <td>Not sure</td>\n",
       "      <td>I have little or no influence</td>\n",
       "      <td>HTML/CSS</td>\n",
       "      <td>Elixir;HTML/CSS</td>\n",
       "      <td>PostgreSQL</td>\n",
       "      <td>PostgreSQL</td>\n",
       "      <td>NaN</td>\n",
       "      <td>NaN</td>\n",
       "      <td>NaN</td>\n",
       "      <td>Other(s):</td>\n",
       "      <td>NaN</td>\n",
       "      <td>NaN</td>\n",
       "      <td>Vim;Visual Studio Code</td>\n",
       "      <td>Linux-based</td>\n",
       "      <td>I do not use containers</td>\n",
       "      <td>NaN</td>\n",
       "      <td>NaN</td>\n",
       "      <td>Yes</td>\n",
       "      <td>Yes</td>\n",
       "      <td>Yes</td>\n",
       "      <td>Reddit</td>\n",
       "      <td>In real life (in person)</td>\n",
       "      <td>Username</td>\n",
       "      <td>2011</td>\n",
       "      <td>A few times per week</td>\n",
       "      <td>Find answers to specific questions;Learn how t...</td>\n",
       "      <td>6-10 times per week</td>\n",
       "      <td>They were about the same</td>\n",
       "      <td>NaN</td>\n",
       "      <td>Yes</td>\n",
       "      <td>Less than once per month or monthly</td>\n",
       "      <td>Yes</td>\n",
       "      <td>No, I've heard of them, but I am not part of a...</td>\n",
       "      <td>Neutral</td>\n",
       "      <td>Just as welcome now as I felt last year</td>\n",
       "      <td>Tech meetups or events in your area;Courses on...</td>\n",
       "      <td>28.0</td>\n",
       "      <td>Man</td>\n",
       "      <td>No</td>\n",
       "      <td>Straight / Heterosexual</td>\n",
       "      <td>NaN</td>\n",
       "      <td>Yes</td>\n",
       "      <td>Appropriate in length</td>\n",
       "      <td>Neither easy nor difficult</td>\n",
       "    </tr>\n",
       "  </tbody>\n",
       "</table>\n",
       "</div>"
      ],
      "text/plain": [
       "   Respondent                                         MainBranch  Hobbyist  \\\n",
       "0           1             I am a student who is learning to code      True   \n",
       "1           2             I am a student who is learning to code     False   \n",
       "2           3  I am not primarily a developer, but I write co...      True   \n",
       "\n",
       "               OpenSourcer                                         OpenSource  \\\n",
       "0                    Never  The quality of OSS and closed source software ...   \n",
       "1  Less than once per year  The quality of OSS and closed source software ...   \n",
       "2                    Never  The quality of OSS and closed source software ...   \n",
       "\n",
       "                               Employment                 Country  \\\n",
       "0  Not employed, and not looking for work          United Kingdom   \n",
       "1      Not employed, but looking for work  Bosnia and Herzegovina   \n",
       "2                      Employed full-time                Thailand   \n",
       "\n",
       "          Student                                            EdLevel  \\\n",
       "0              No                          Primary/elementary school   \n",
       "1  Yes, full-time  Secondary school (e.g. American high school, G...   \n",
       "2              No           Bachelor’s degree (BA, BS, B.Eng., etc.)   \n",
       "\n",
       "                  UndergradMajor  \\\n",
       "0                            NaN   \n",
       "1                            NaN   \n",
       "2  Web development or web design   \n",
       "\n",
       "                                            EduOther               OrgSize  \\\n",
       "0  Taught yourself a new language, framework, or ...                   NaN   \n",
       "1  Taken an online course in programming or softw...                   NaN   \n",
       "2  Taught yourself a new language, framework, or ...  100 to 499 employees   \n",
       "\n",
       "                                             DevType YearsCode Age1stCode  \\\n",
       "0                                                NaN         4         10   \n",
       "1  Developer, desktop or enterprise applications;...       NaN         17   \n",
       "2  Designer;Developer, back-end;Developer, front-...         3         22   \n",
       "\n",
       "  YearsCodePro           CareerSat              JobSat              MgrIdiot  \\\n",
       "0          NaN                 NaN                 NaN                   NaN   \n",
       "1          NaN                 NaN                 NaN                   NaN   \n",
       "2            1  Slightly satisfied  Slightly satisfied  Not at all confident   \n",
       "\n",
       "   MgrMoney   MgrWant                                            JobSeek  \\\n",
       "0       NaN       NaN                                                NaN   \n",
       "1       NaN       NaN                    I am actively looking for a job   \n",
       "2  Not sure  Not sure  I’m not actively looking, but I am open to new...   \n",
       "\n",
       "           LastHireDate                              LastInt FizzBuzz  \\\n",
       "0                   NaN                                  NaN      NaN   \n",
       "1  I've never had a job                                  NaN      NaN   \n",
       "2         1-2 years ago  Interview with people in peer roles       No   \n",
       "\n",
       "                                          JobFactors  \\\n",
       "0                                                NaN   \n",
       "1  Financial performance or funding status of the...   \n",
       "2  Languages, frameworks, and other technologies ...   \n",
       "\n",
       "                                        ResumeUpdate CurrencySymbol  \\\n",
       "0                                                NaN            NaN   \n",
       "1  Something else changed (education, award, medi...            NaN   \n",
       "2                   I was preparing for a job search            THB   \n",
       "\n",
       "  CurrencyDesc  CompTotal CompFreq  SalaryUSD  WorkWeekHrs  \\\n",
       "0          NaN        NaN      NaN        NaN          NaN   \n",
       "1          NaN        NaN      NaN        NaN          NaN   \n",
       "2    Thai baht    23000.0  Monthly     8820.0         40.0   \n",
       "\n",
       "                                            WorkPlan  \\\n",
       "0                                                NaN   \n",
       "1                                                NaN   \n",
       "2  There's no schedule or spec; I work on what se...   \n",
       "\n",
       "                                       WorkChallenge  \\\n",
       "0                                                NaN   \n",
       "1                                                NaN   \n",
       "2  Distracting work environment;Inadequate access...   \n",
       "\n",
       "                         WorkRemote WorkLoc   ImpSyn CodeRev  CodeRevHrs  \\\n",
       "0                               NaN     NaN      NaN     NaN         NaN   \n",
       "1                               NaN     NaN      NaN     NaN         NaN   \n",
       "2  Less than once per month / Never    Home  Average      No         NaN   \n",
       "\n",
       "                   UnitTests PurchaseHow                   PurchaseWhat  \\\n",
       "0                        NaN         NaN                            NaN   \n",
       "1                        NaN         NaN                            NaN   \n",
       "2  No, but I think we should    Not sure  I have little or no influence   \n",
       "\n",
       "                LanguageWorkedWith  \\\n",
       "0  HTML/CSS;Java;JavaScript;Python   \n",
       "1              C++;HTML/CSS;Python   \n",
       "2                         HTML/CSS   \n",
       "\n",
       "                            LanguageDesireNextYear DatabaseWorkedWith  \\\n",
       "0  C;C++;C#;Go;HTML/CSS;Java;JavaScript;Python;SQL             SQLite   \n",
       "1                      C++;HTML/CSS;JavaScript;SQL                NaN   \n",
       "2                                  Elixir;HTML/CSS         PostgreSQL   \n",
       "\n",
       "  DatabaseDesireNextYear PlatformWorkedWith   PlatformDesireNextYear  \\\n",
       "0                  MySQL      MacOS;Windows  Android;Arduino;Windows   \n",
       "1                  MySQL            Windows                  Windows   \n",
       "2             PostgreSQL                NaN                      NaN   \n",
       "\n",
       "  WebFrameWorkedWith WebFrameDesireNextYear MiscTechWorkedWith  \\\n",
       "0       Django;Flask           Flask;jQuery            Node.js   \n",
       "1             Django                 Django                NaN   \n",
       "2                NaN              Other(s):                NaN   \n",
       "\n",
       "  MiscTechDesireNextYear                  DevEnviron        OpSys  \\\n",
       "0                Node.js  IntelliJ;Notepad++;PyCharm      Windows   \n",
       "1                    NaN                Atom;PyCharm      Windows   \n",
       "2                    NaN      Vim;Visual Studio Code  Linux-based   \n",
       "\n",
       "                Containers BlockchainOrg  \\\n",
       "0  I do not use containers           NaN   \n",
       "1  I do not use containers           NaN   \n",
       "2  I do not use containers           NaN   \n",
       "\n",
       "                                        BlockchainIs BetterLife  \\\n",
       "0                                                NaN        Yes   \n",
       "1  Useful across many domains and could change ma...        Yes   \n",
       "2                                                NaN        Yes   \n",
       "\n",
       "                                   ITperson OffOn SocialMedia  \\\n",
       "0  Fortunately, someone else has that title   Yes     Twitter   \n",
       "1                                       Yes   Yes   Instagram   \n",
       "2                                       Yes   Yes      Reddit   \n",
       "\n",
       "               Extraversion ScreenName SOVisit1st  \\\n",
       "0                    Online   Username       2017   \n",
       "1                    Online   Username       2017   \n",
       "2  In real life (in person)   Username       2011   \n",
       "\n",
       "                       SOVisitFreq  \\\n",
       "0  A few times per month or weekly   \n",
       "1            Daily or almost daily   \n",
       "2             A few times per week   \n",
       "\n",
       "                                           SOVisitTo         SOFindAnswer  \\\n",
       "0  Find answers to specific questions;Learn how t...   3-5 times per week   \n",
       "1  Find answers to specific questions;Learn how t...   3-5 times per week   \n",
       "2  Find answers to specific questions;Learn how t...  6-10 times per week   \n",
       "\n",
       "                      SOTimeSaved  SOHowMuchTime SOAccount  \\\n",
       "0  Stack Overflow was much faster  31-60 minutes        No   \n",
       "1  Stack Overflow was much faster  11-30 minutes       Yes   \n",
       "2        They were about the same            NaN       Yes   \n",
       "\n",
       "                            SOPartFreq  \\\n",
       "0                                  NaN   \n",
       "1      A few times per month or weekly   \n",
       "2  Less than once per month or monthly   \n",
       "\n",
       "                                              SOJobs  \\\n",
       "0  No, I didn't know that Stack Overflow had a jo...   \n",
       "1  No, I knew that Stack Overflow had a job board...   \n",
       "2                                                Yes   \n",
       "\n",
       "                                            EntTeams         SOComm  \\\n",
       "0                No, and I don't know what those are        Neutral   \n",
       "1                No, and I don't know what those are  Yes, somewhat   \n",
       "2  No, I've heard of them, but I am not part of a...        Neutral   \n",
       "\n",
       "                             WelcomeChange  \\\n",
       "0  Just as welcome now as I felt last year   \n",
       "1  Just as welcome now as I felt last year   \n",
       "2  Just as welcome now as I felt last year   \n",
       "\n",
       "                                        SONewContent   Age Gender Trans  \\\n",
       "0  Tech articles written by other developers;Indu...  14.0    Man    No   \n",
       "1  Tech articles written by other developers;Indu...  19.0    Man    No   \n",
       "2  Tech meetups or events in your area;Courses on...  28.0    Man    No   \n",
       "\n",
       "                 Sexuality Ethnicity Dependents           SurveyLength  \\\n",
       "0  Straight / Heterosexual       NaN         No  Appropriate in length   \n",
       "1  Straight / Heterosexual       NaN         No  Appropriate in length   \n",
       "2  Straight / Heterosexual       NaN        Yes  Appropriate in length   \n",
       "\n",
       "                   SurveyEase  \n",
       "0  Neither easy nor difficult  \n",
       "1  Neither easy nor difficult  \n",
       "2  Neither easy nor difficult  "
      ]
     },
     "execution_count": 60,
     "metadata": {},
     "output_type": "execute_result"
    }
   ],
   "source": [
    "df['Hobbyist'] = df['Hobbyist'].map({'Yes': True, 'No': False})\n",
    "df.head(3)"
   ]
  },
  {
   "cell_type": "code",
   "execution_count": null,
   "id": "9782dbec",
   "metadata": {},
   "outputs": [],
   "source": []
  }
 ],
 "metadata": {
  "kernelspec": {
   "display_name": "Python 3 (ipykernel)",
   "language": "python",
   "name": "python3"
  },
  "language_info": {
   "codemirror_mode": {
    "name": "ipython",
    "version": 3
   },
   "file_extension": ".py",
   "mimetype": "text/x-python",
   "name": "python",
   "nbconvert_exporter": "python",
   "pygments_lexer": "ipython3",
   "version": "3.9.12"
  }
 },
 "nbformat": 4,
 "nbformat_minor": 5
}
